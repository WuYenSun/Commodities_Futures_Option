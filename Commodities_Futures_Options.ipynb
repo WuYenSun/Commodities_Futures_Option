{
  "nbformat": 4,
  "nbformat_minor": 0,
  "metadata": {
    "colab": {
      "provenance": []
    },
    "kernelspec": {
      "name": "python3",
      "display_name": "Python 3"
    },
    "language_info": {
      "name": "python"
    }
  },
  "cells": [
    {
      "cell_type": "code",
      "execution_count": 1,
      "metadata": {
        "id": "wCVM5NWsjtII"
      },
      "outputs": [],
      "source": [
        "import numpy as np\n",
        "import pandas as pd\n",
        "import matplotlib.pyplot as plt\n",
        "from functools import partial\n",
        "from scipy import integrate\n",
        "from scipy.optimize import brentq, fsolve, minimize_scalar\n",
        "from scipy.stats import norm, multivariate_normal"
      ]
    },
    {
      "cell_type": "code",
      "source": [
        "# Parameters (WTI Sep '23 (CLU23) on July 07 2023 10:44am CDT)\n",
        "futures_price = 72.89\n",
        "strike_price = 72.5\n",
        "# risk_free_rate = 0.0535\n",
        "risk_free_rate = 0.0\n",
        "time_to_maturity = 41/365\n",
        "vol_black = 0.33\n",
        "vol_bachelier = vol_black*futures_price"
      ],
      "metadata": {
        "id": "LTC5Lb81lV_6"
      },
      "execution_count": 2,
      "outputs": []
    },
    {
      "cell_type": "code",
      "source": [],
      "metadata": {
        "id": "ED9vNhm8ZnRV"
      },
      "execution_count": 2,
      "outputs": []
    },
    {
      "cell_type": "markdown",
      "source": [
        "## Bachelier (1900)\n",
        "$$dF_t = \\sigma dW_t$$"
      ],
      "metadata": {
        "id": "UyuCTH1yomEZ"
      }
    },
    {
      "cell_type": "code",
      "source": [
        "# Bachelier (1900)\n",
        "class Bachelier:\n",
        "    def __init__(self, F, vol, r, tau):\n",
        "      self.F = F\n",
        "      self.vol = vol\n",
        "      self.r = r\n",
        "      self.tau = tau\n",
        "\n",
        "\n",
        "    def option_pricer(self, vol = None, K = None, option_type = 'call'):\n",
        "      '''\n",
        "      Bachelier formula\n",
        "      return call/put option price\n",
        "      '''\n",
        "      # default parameter\n",
        "      if vol == None:\n",
        "        vol = self.vol\n",
        "\n",
        "      m = (self.F - K) / (vol * np.sqrt(self.tau))\n",
        "      if option_type == 'call':\n",
        "        return np.exp(-self.r * self.tau) * ((self.F - K)*norm.cdf(m) + vol * self.tau**0.5 * norm.pdf(m))\n",
        "      elif option_type == 'put':\n",
        "        return np.exp(-self.r * self.tau) * ((K - self.F)*(1-norm.cdf(m)) + vol * self.tau**0.5 * norm.pdf(m))\n",
        "\n",
        "\n",
        "    def simulate_F(self, paths = 100000, steps = None):\n",
        "      '''\n",
        "      Monte Carlo simulation\n",
        "      return underlying futures price and time vector\n",
        "      '''\n",
        "      # default parameter\n",
        "      if steps == None:\n",
        "        steps = 2\n",
        "\n",
        "      # initialize vectors\n",
        "      arr_F = np.zeros((paths, steps))\n",
        "      arr_F[:,0] = self.F\n",
        "\n",
        "      # generate Brownian motion\n",
        "      arr_w = np.random.standard_normal(size = (paths, steps-1))\n",
        "\n",
        "      # compute the corresponding price\n",
        "      T_vec, dt = np.linspace(0, self.tau, steps, retstep=True)\n",
        "      for t in range(0, steps-1):\n",
        "        arr_F[:,t+1] = arr_F[:,t] + self.vol * dt**0.5 * arr_w[:,t]\n",
        "\n",
        "      return arr_F, T_vec"
      ],
      "metadata": {
        "id": "5reK8smd_TkL"
      },
      "execution_count": 3,
      "outputs": []
    },
    {
      "cell_type": "code",
      "source": [
        "bachelier = Bachelier(futures_price, vol_bachelier, risk_free_rate, time_to_maturity)\n",
        "bachelier_call = bachelier.option_pricer(K = strike_price, option_type = 'call')\n",
        "bachelier_put = bachelier.option_pricer(K = strike_price, option_type = 'put')\n",
        "\n",
        "print(f'Bachelier formula: call is {bachelier_call:.4f}')\n",
        "print(f'Bachelier formula: put is {bachelier_put:.4f}')"
      ],
      "metadata": {
        "colab": {
          "base_uri": "https://localhost:8080/"
        },
        "id": "3yE1YDfcHDGD",
        "outputId": "45c05d3e-3e9a-4b8f-99ff-ce7b4fa86c88"
      },
      "execution_count": 4,
      "outputs": [
        {
          "output_type": "stream",
          "name": "stdout",
          "text": [
            "Bachelier formula: call is 3.4149\n",
            "Bachelier formula: put is 3.0249\n"
          ]
        }
      ]
    },
    {
      "cell_type": "code",
      "source": [
        "# verify through Monte Carlo simulation\n",
        "paths = 1000000\n",
        "arr_F, _ = bachelier.simulate_F(paths = paths)\n",
        "\n",
        "arr_V = np.exp(-risk_free_rate*time_to_maturity) * np.maximum(arr_F[:,-1] - strike_price, 0)\n",
        "mean_call, ste_call = arr_V.mean(), arr_V.std() / paths**0.5\n",
        "arr_V = np.exp(-risk_free_rate*time_to_maturity) * np.maximum(strike_price - arr_F[:,-1], 0)\n",
        "mean_put, ste_put = arr_V.mean(), arr_V.std() / paths**0.5\n",
        "\n",
        "print(f'Monte Carlo simulation: call is {mean_call:.4f} with standard error {ste_call:.6f}')\n",
        "print(f'Monte Carlo simulation: put is {mean_put:.4f} with standard error {ste_put:.6f}')"
      ],
      "metadata": {
        "colab": {
          "base_uri": "https://localhost:8080/"
        },
        "id": "1mK0_8_y_b38",
        "outputId": "5b6c3fcd-84cc-4ad0-a3dc-489086a956c1"
      },
      "execution_count": 5,
      "outputs": [
        {
          "output_type": "stream",
          "name": "stdout",
          "text": [
            "Monte Carlo simulation: call is 3.4112 with standard error 0.004843\n",
            "Monte Carlo simulation: put is 3.0281 with standard error 0.004574\n"
          ]
        }
      ]
    },
    {
      "cell_type": "code",
      "source": [],
      "metadata": {
        "id": "Ldr1YUruinTY"
      },
      "execution_count": 5,
      "outputs": []
    },
    {
      "cell_type": "markdown",
      "source": [
        "## Black (1976)\n",
        "$$dF_t = \\sigma F_tdW_t$$"
      ],
      "metadata": {
        "id": "vv_7CIdiZhn6"
      }
    },
    {
      "cell_type": "code",
      "source": [
        "# Black (1976)\n",
        "class Black:\n",
        "    def __init__(self, F, vol, r, tau):\n",
        "      self.F = F\n",
        "      self.vol = vol\n",
        "      self.r = r\n",
        "      self.tau = tau\n",
        "\n",
        "\n",
        "    def option_pricer(self, vol = None, K = None, option_type = 'call'):\n",
        "      '''\n",
        "      Black formula\n",
        "      return call/put option price\n",
        "      '''\n",
        "      # default parameter\n",
        "      if vol == None:\n",
        "        vol = self.vol\n",
        "\n",
        "      d1 = (np.log(self.F / K) +  0.5 * vol ** 2 * self.tau) / (vol * np.sqrt(self.tau))\n",
        "      d2 = (np.log(self.F / K) -  0.5 * vol ** 2 * self.tau) / (vol * np.sqrt(self.tau))\n",
        "      if option_type == 'call':\n",
        "        return np.exp(-self.r * self.tau) * ( self.F * norm.cdf(d1) - K * norm.cdf(d2))\n",
        "      elif option_type == 'put':\n",
        "        return np.exp(-self.r * self.tau) * ( K * (1 - norm.cdf(d2)) - self.F * (1 - norm.cdf(d1)))\n",
        "\n",
        "\n",
        "    def simulate_F(self, paths = 100000, steps = None):\n",
        "      '''\n",
        "      Monte Carlo simulation\n",
        "      return underlying futures price and time vector\n",
        "      '''\n",
        "      # default parameter\n",
        "      if steps == None:\n",
        "        steps = 2\n",
        "\n",
        "      # initialize vectors\n",
        "      arr_F = np.zeros((paths, steps))\n",
        "      arr_F[:,0] = self.F\n",
        "\n",
        "      # generate Brownian motion\n",
        "      arr_w = np.random.standard_normal(size = (paths, steps-1))\n",
        "\n",
        "      # compute the corresponding price\n",
        "      T_vec, dt = np.linspace(0, self.tau, steps, retstep=True)\n",
        "      for t in range(0, steps-1):\n",
        "        arr_F[:,t+1] = arr_F[:,t] * np.exp( -0.5 * self.vol**2 * dt + self.vol * dt**0.5 * arr_w[:,t] )\n",
        "\n",
        "      return arr_F, T_vec\n"
      ],
      "metadata": {
        "id": "mUS2tje3JZ7a"
      },
      "execution_count": 6,
      "outputs": []
    },
    {
      "cell_type": "code",
      "source": [
        "black = Black(futures_price, vol_black, risk_free_rate, time_to_maturity)\n",
        "black_call = black.option_pricer(K = strike_price, option_type = 'call')\n",
        "black_put = black.option_pricer(K = strike_price, option_type = 'put')\n",
        "\n",
        "print(f'Black formula: call is {black_call:.4f}')\n",
        "print(f'Black formula: put is {black_put:.4f}')"
      ],
      "metadata": {
        "colab": {
          "base_uri": "https://localhost:8080/"
        },
        "id": "MsoKS2_wQhCk",
        "outputId": "df03fd29-6b63-452a-843f-625867218c2e"
      },
      "execution_count": 7,
      "outputs": [
        {
          "output_type": "stream",
          "name": "stdout",
          "text": [
            "Black formula: call is 3.4047\n",
            "Black formula: put is 3.0147\n"
          ]
        }
      ]
    },
    {
      "cell_type": "code",
      "source": [
        "# verify through Monte Carlo simulation\n",
        "paths = 1000000\n",
        "arr_F, _ = black.simulate_F(paths = paths)\n",
        "\n",
        "arr_V = np.exp(-risk_free_rate*time_to_maturity) * np.maximum(arr_F[:,-1] - strike_price, 0)\n",
        "mean_call, ste_call = arr_V.mean(), arr_V.std() / paths**0.5\n",
        "arr_V = np.exp(-risk_free_rate*time_to_maturity) * np.maximum(strike_price - arr_F[:,-1], 0)\n",
        "mean_put, ste_put = arr_V.mean(), arr_V.std() / paths**0.5\n",
        "\n",
        "print(f'Monte Carlo simulation: call is {mean_call:.4f} with standard error {ste_call:.6f}')\n",
        "print(f'Monte Carlo simulation: put is {mean_put:.4f} with standard error {ste_put:.6f}')"
      ],
      "metadata": {
        "colab": {
          "base_uri": "https://localhost:8080/"
        },
        "id": "Iv7dBPTgQr91",
        "outputId": "a8719133-eec8-497e-ea7b-8bba921472c5"
      },
      "execution_count": 8,
      "outputs": [
        {
          "output_type": "stream",
          "name": "stdout",
          "text": [
            "Monte Carlo simulation: call is 3.4084 with standard error 0.005156\n",
            "Monte Carlo simulation: put is 3.0115 with standard error 0.004277\n"
          ]
        }
      ]
    },
    {
      "cell_type": "code",
      "source": [],
      "metadata": {
        "id": "1PI-8p2lmCcr"
      },
      "execution_count": 8,
      "outputs": []
    },
    {
      "cell_type": "markdown",
      "source": [
        "## Heston (1993)\n",
        "\\begin{cases}\n",
        "dF_t = \\sqrt{v_t} F_t dW^1_t \\\\\n",
        "dv_t = \\kappa (\\theta - v_t) dt + \\sigma \\sqrt{v_t} dW^2_t\\\\\n",
        "dW^1_tdW^2_t = \\rho dt\n",
        "\\end{cases}"
      ],
      "metadata": {
        "id": "M8PDhyNaZrkD"
      }
    },
    {
      "cell_type": "code",
      "source": [
        "# Heston (1993)\n",
        "\n",
        "def cf(u, tau, mu, rho, v0, theta, kappa, sigma):\n",
        "\n",
        "    \"\"\"\n",
        "    Heston characteristic function in Schoutens (2004)\n",
        "    \"\"\"\n",
        "\n",
        "    d = ((kappa - rho*sigma*u*1j)**2 + sigma**2*(1j*u + u**2))**0.5\n",
        "    g = (kappa - rho*sigma*u*1j - d)/(kappa - rho*sigma*u*1j + d)\n",
        "    cf_ = np.exp( 1j*u*mu*tau +\\\n",
        "                 theta*kappa*sigma**-2*((kappa - rho*sigma*u*1j - d)*tau - 2*np.log((1 - g*np.exp(-d*tau))/( 1 - g))) +\\\n",
        "                 v0*sigma**-2*(kappa - rho*sigma*u*1j - d)*(1 - np.exp(-d*tau))/(1 - g*np.exp(-d*tau)) )\n",
        "    return cf_\n",
        "\n",
        "class Heston:\n",
        "    def __init__(self, F, rho, v0, theta, kappa, sigma,  r, tau):\n",
        "      self.F = F\n",
        "      self.rho = rho\n",
        "      self.v0 = v0 # spot variance\n",
        "      self.theta = theta\n",
        "      self.kappa = kappa\n",
        "      self.sigma = sigma\n",
        "      self.r = r\n",
        "      self.tau = tau\n",
        "      if 2*kappa * theta < sigma**2:\n",
        "        print(f'The parameters entered fail the Feller condition')\n",
        "\n",
        "\n",
        "    def option_pricer(self, K = None, option_type = 'call'):\n",
        "      '''\n",
        "      Fourier inversion\n",
        "      return call/put option price\n",
        "      '''\n",
        "\n",
        "      k = np.log(K/self.F)\n",
        "      cf_ = partial(cf, tau = self.tau, mu = 0, rho = self.rho, v0 = self.v0, theta = self.theta, kappa = self.kappa, sigma = self.sigma )\n",
        "\n",
        "      integrand_Q1 = lambda u: np.real((np.exp(-u*k*1j) * cf_(u-1j) / (u*1j)) / cf_(-1j))\n",
        "      integrand_Q2 = lambda u: np.real(np.exp(-u*k*1j) * cf_(u) / (u*1j))\n",
        "\n",
        "      Q1 = 1/2 + 1/np.pi * integrate.quad(integrand_Q1, 1e-15, np.inf, limit=2000)[0]\n",
        "      Q2 = 1/2 + 1/np.pi * integrate.quad(integrand_Q2, 1e-15, np.inf, limit=2000)[0]\n",
        "\n",
        "      if option_type == 'call':\n",
        "        return np.exp(-self.r * self.tau) * ( self.F * Q1 - K * Q2)\n",
        "      elif option_type == 'put':\n",
        "        return np.exp(-self.r * self.tau) * ( K * (1-Q2) - self.F * (1-Q1) )\n",
        "\n",
        "\n",
        "    def simulate_F(self, paths = 10000, steps = None):\n",
        "      '''\n",
        "      Monte Carlo simulation\n",
        "      return underlying futures price and time vector\n",
        "      '''\n",
        "\n",
        "      # default parameter\n",
        "      if steps == None:\n",
        "        steps = int(self.tau*252*4)\n",
        "\n",
        "      # Initialize vectors\n",
        "      arr_F = np.zeros((paths,steps)); arr_F[:,0] = self.F\n",
        "      arr_v = np.zeros((paths,steps)); arr_v[:,0] = self.v0\n",
        "\n",
        "      # Generate random 2D Brownian motions\n",
        "      arr_w = multivariate_normal.rvs( mean = np.array([0, 0]),\n",
        "                                        cov = np.array([[1, self.rho], [self.rho, 1]]),\n",
        "                                        size = (paths, steps-1) )\n",
        "\n",
        "      # Compute the corresponding paths\n",
        "      T_vec, dt = np.linspace(0, self.tau, steps, retstep=True)\n",
        "      for t in range(0,steps-1):\n",
        "        arr_F[:,t+1] = arr_F[:,t] + arr_F[:,t] * ( arr_v[:,t] * dt )**0.5 * arr_w[:,t,0]\n",
        "        arr_v[:,t+1] = arr_v[:,t] + self.kappa * ( self.theta - arr_v[:,t] ) * dt + self.sigma * ( arr_v[:,t] * dt )**0.5 * arr_w[:,t,1]\n",
        "        arr_v[arr_v[:,t+1] < 0.0, t+1] = 1e-5 # prevent negative variance\n",
        "\n",
        "      return arr_F, T_vec\n"
      ],
      "metadata": {
        "id": "Tc1jD26nVE_g"
      },
      "execution_count": 9,
      "outputs": []
    },
    {
      "cell_type": "code",
      "source": [
        "# Heston parameters\n",
        "rho = -0.30                                         # correlation coefficient\n",
        "v0 = 0.30**2                                        # spot variance\n",
        "theta = 0.40**2                                     # long-term variance\n",
        "kappa = 5.0                                         # mean reversion coefficient\n",
        "sigma = 0.7                                         # volatility of instantaneous variance (Vol of Vol)"
      ],
      "metadata": {
        "id": "Mdf5LSnEclFr"
      },
      "execution_count": 10,
      "outputs": []
    },
    {
      "cell_type": "code",
      "source": [
        "heston = Heston(futures_price, rho, v0, theta, kappa, sigma, risk_free_rate, time_to_maturity)\n",
        "heston_call = heston.option_pricer(K = strike_price, option_type = 'call')\n",
        "heston_put = heston.option_pricer(K = strike_price, option_type = 'put')\n",
        "\n",
        "print(f'Heston (foruier inversion): call is {heston_call:.4f}')\n",
        "print(f'Heston (foruier inversion): put is {heston_put:.4f}')"
      ],
      "metadata": {
        "colab": {
          "base_uri": "https://localhost:8080/"
        },
        "id": "duYjIi-Pcfz4",
        "outputId": "265c8112-7b04-4ff1-ea82-7d449fe00de0"
      },
      "execution_count": 11,
      "outputs": [
        {
          "output_type": "stream",
          "name": "stdout",
          "text": [
            "Heston (foruier inversion): call is 3.3257\n",
            "Heston (foruier inversion): put is 2.9357\n"
          ]
        }
      ]
    },
    {
      "cell_type": "code",
      "source": [
        "# verify through Monte Carlo simulation\n",
        "paths = 10000\n",
        "arr_F, _ = heston.simulate_F(paths = paths)\n",
        "\n",
        "arr_V = np.exp(-risk_free_rate*time_to_maturity) * np.maximum(arr_F[:,-1] - strike_price, 0)\n",
        "mean_call, ste_call = arr_V.mean(), arr_V.std() / paths**0.5\n",
        "arr_V = np.exp(-risk_free_rate*time_to_maturity) * np.maximum(strike_price - arr_F[:,-1], 0)\n",
        "mean_put, ste_put = arr_V.mean(), arr_V.std() / paths**0.5\n",
        "\n",
        "print(f'Monte Carlo simulation: call is {mean_call:.4f} with standard error {ste_call:.6f}')\n",
        "print(f'Monte Carlo simulation: put is {mean_put:.4f} with standard error {ste_put:.6f}')"
      ],
      "metadata": {
        "colab": {
          "base_uri": "https://localhost:8080/"
        },
        "id": "tTQu7g4dcfve",
        "outputId": "45500acf-53a3-4dfa-b235-b2ea712314c5"
      },
      "execution_count": 12,
      "outputs": [
        {
          "output_type": "stream",
          "name": "stdout",
          "text": [
            "Monte Carlo simulation: call is 3.3095 with standard error 0.048315\n",
            "Monte Carlo simulation: put is 2.9659 with standard error 0.044921\n"
          ]
        }
      ]
    },
    {
      "cell_type": "code",
      "source": [],
      "metadata": {
        "id": "ZkOni2RVtG2D"
      },
      "execution_count": 12,
      "outputs": []
    },
    {
      "cell_type": "markdown",
      "source": [
        "## Quadratic Normal Model (2023)\n",
        "\\begin{cases}\n",
        "dF_t = \\sigma(F_t)dW_t \\\\\n",
        "\\sigma(F_t) = cF^2 + bF + a = c(F-\\frac{-b}{2c})^2  + a - \\frac{b^2}{4c}\n",
        "\\end{cases}"
      ],
      "metadata": {
        "id": "TKytVv1Hzp_3"
      }
    },
    {
      "cell_type": "code",
      "source": [
        "# Quadratic Normal Model (2023)\n",
        "class QNM:\n",
        "    def __init__(self, F, a, b, c, tau):\n",
        "      self.F = F\n",
        "      self.a = a\n",
        "      self.b = b\n",
        "      self.c = c\n",
        "      self.tau = tau\n",
        "\n",
        "\n",
        "    def option_pricer(self, K = None, option_type = 'call'):\n",
        "      '''\n",
        "      The method of linearization\n",
        "      return call/put option price\n",
        "      '''\n",
        "      m = (self.F - K)/(self.a * self.tau**0.5)\n",
        "      C_BC = (self.F - K)*norm.cdf(m) + self.a * np.sqrt(self.tau) * norm.pdf(m)\n",
        "      U = self.tau**0.5 * norm.pdf((self.F-K)/self.tau**0.5) * (self.b*(self.F + K)/2 + self.c*(self.F**2 + self.F*K + K**2 + 0.5*self.a**2 * self.tau)/3)\n",
        "\n",
        "      if option_type == 'call':\n",
        "        return C_BC + U\n",
        "      elif option_type == 'put':\n",
        "        return C_BC + U + K - self.F\n",
        "\n",
        "\n",
        "    def simulate_F(self, paths = 100000, steps = None):\n",
        "      '''\n",
        "      Monte Carlo simulation\n",
        "      return underlying futures price and time vector\n",
        "      '''\n",
        "      # default parameter\n",
        "      if steps == None:\n",
        "        steps = 2\n",
        "\n",
        "      # initialize vectors\n",
        "      arr_F = np.zeros((paths, steps))\n",
        "      arr_F[:,0] = self.F\n",
        "\n",
        "      # generate Brownian motion\n",
        "      arr_w = np.random.standard_normal(size = (paths, steps-1))\n",
        "\n",
        "      # compute the corresponding price\n",
        "      T_vec, dt = np.linspace(0, self.tau, steps, retstep=True)\n",
        "      for t in range(0, steps-1):\n",
        "        arr_F[:,t+1] = arr_F[:,t] + self.vol * dt**0.5 * arr_w[:,t]\n",
        "\n",
        "      return arr_F, T_vec"
      ],
      "metadata": {
        "id": "Wo1MaziD0Y46"
      },
      "execution_count": 13,
      "outputs": []
    },
    {
      "cell_type": "code",
      "source": [],
      "metadata": {
        "id": "L_nl5hAd0vyz"
      },
      "execution_count": 13,
      "outputs": []
    },
    {
      "cell_type": "code",
      "source": [
        "arr_strike = np.arange(50,111,5)\n",
        "\n",
        "# call option\n",
        "arr_bachelier_call = bachelier.option_pricer(K = arr_strike, option_type = 'call')\n",
        "arr_black_call = black.option_pricer(K = arr_strike, option_type = 'call')\n",
        "list_heston_call = []\n",
        "for strike_ in arr_strike:\n",
        "  list_heston_call.append(heston.option_pricer(K = strike_, option_type = 'call'))\n",
        "\n",
        "# put option\n",
        "arr_bachelier_put = bachelier.option_pricer(K = arr_strike, option_type = 'put')\n",
        "arr_black_put = black.option_pricer(K = arr_strike, option_type = 'put')\n",
        "list_heston_put = []\n",
        "for strike_ in arr_strike:\n",
        "  list_heston_put.append(heston.option_pricer(K = strike_, option_type = 'put'))\n",
        "\n",
        "# create subplots\n",
        "fig = plt.figure(figsize=(16,5))\n",
        "\n",
        "ax1 = fig.add_subplot(121)\n",
        "ax1.plot(arr_strike, arr_bachelier_call, linewidth = 0.7, label = 'Bachelier')\n",
        "ax1.plot(arr_strike, arr_black_call, linewidth = 0.7, label = 'Black')\n",
        "ax1.plot(arr_strike, list_heston_call, linewidth = 0.7, label = 'Heston')\n",
        "ax1.set_title('Call Option Price')\n",
        "ax1.set_xlabel('stike price K')\n",
        "ax1.set_ylabel('call option price')\n",
        "ax1.legend(loc='upper right')\n",
        "\n",
        "ax2 = fig.add_subplot(122)\n",
        "ax2.plot(arr_strike, arr_bachelier_put, linewidth = 0.7, label = 'Bachelier')\n",
        "ax2.plot(arr_strike, arr_black_put, linewidth = 0.7, label = 'Black')\n",
        "ax2.plot(arr_strike, list_heston_put, linewidth = 0.7, label = 'Heston')\n",
        "ax2.set_title('Put Option Price')\n",
        "ax2.set_xlabel('stike price K')\n",
        "ax2.set_ylabel('put option price')\n",
        "ax2.legend(loc='lower right')\n",
        "\n",
        "plt.show()"
      ],
      "metadata": {
        "colab": {
          "base_uri": "https://localhost:8080/",
          "height": 487
        },
        "id": "qlhabwUfqa0o",
        "outputId": "dd2621b6-2ea8-4f54-bdef-aafce20f07d6"
      },
      "execution_count": 14,
      "outputs": [
        {
          "output_type": "display_data",
          "data": {
            "text/plain": [
              "<Figure size 1600x500 with 2 Axes>"
            ],
            "image/png": "[encoded data removed]"
          },
          "metadata": {}
        }
      ]
    },
    {
      "cell_type": "code",
      "source": [],
      "metadata": {
        "id": "407RFOectS3p"
      },
      "execution_count": 14,
      "outputs": []
    },
    {
      "cell_type": "markdown",
      "source": [
        "## Implied Volatility"
      ],
      "metadata": {
        "id": "tsKIdmhkniI3"
      }
    },
    {
      "cell_type": "code",
      "source": [
        "def implied_volatility(option_price, F, K, r, tau, option_type = 'call', model = 'black', method='fsolve', disp=True):\n",
        "    \"\"\"\n",
        "        Return Implied volatility\n",
        "        model: black (default), bachelier\n",
        "        methods:  fsolve (default), brent, minimization\n",
        "    \"\"\"\n",
        "\n",
        "    if model == 'bachelier':\n",
        "      bachelier_ = Bachelier(F, F*0.1, r, tau)\n",
        "      obj_fun = lambda vol : option_price - bachelier_.option_pricer(vol = vol, K = K, option_type = option_type)\n",
        "      #obj_fun = lambda vol : option_price - bachelier(F, K, r, tau, vol, option_type)\n",
        "    else: # model == 'black'\n",
        "      black_ = Black(F, 0.1, r, tau)\n",
        "      obj_fun = lambda vol : option_price - black_.option_pricer(vol = vol, K = K, option_type = option_type)\n",
        "      #obj_fun = lambda vol : option_price - black(F, K, r, tau, vol, option_type)\n",
        "\n",
        "\n",
        "    if method == 'minimization':\n",
        "      obj_square = lambda vol : obj_fun(vol)**2\n",
        "      res = minimize_scalar( obj_square, bounds=(1e-15, 8), method='bounded')\n",
        "      if res.success == True:\n",
        "        return res.x\n",
        "\n",
        "    elif method == 'brent':\n",
        "        x, r = brentq( obj_fun, a = 1e-15, b = 500, full_output = True)\n",
        "        if r.converged == True:\n",
        "            return x\n",
        "    else:\n",
        "        X0 = [0.1, 0.5, 1, 3]   # set of initial guess points\n",
        "        for x0 in X0:\n",
        "            x, _, solved, _ = fsolve(obj_fun, x0, full_output=True, xtol=1e-8)\n",
        "            if solved == 1:\n",
        "                return x[0]\n",
        "\n",
        "    # display failed strikes\n",
        "    if disp == True:\n",
        "        print(method, K)\n",
        "    return -1\n"
      ],
      "metadata": {
        "id": "SgyjUhjveIJc"
      },
      "execution_count": 15,
      "outputs": []
    },
    {
      "cell_type": "code",
      "source": [
        "# Bachelier implied volatility\n",
        "list_iv_bachelier, list_iv_black, list_iv_heston = [], [], []\n",
        "for bachelier_, black_, heston_, stirke_ in zip(arr_bachelier_call, arr_black_call, list_heston_call, arr_strike):\n",
        "  list_iv_bachelier.append(implied_volatility(bachelier_, futures_price, stirke_, risk_free_rate, time_to_maturity,\n",
        "                                                          option_type = 'call', model = 'bachelier', method='brent', disp=True))\n",
        "  list_iv_black.append(implied_volatility(black_, futures_price, stirke_, risk_free_rate, time_to_maturity,\n",
        "                                                          option_type = 'call', model = 'bachelier', method='brent', disp=True))\n",
        "  list_iv_heston.append(implied_volatility(heston_, futures_price, stirke_, risk_free_rate, time_to_maturity,\n",
        "                                                          option_type = 'call', model = 'bachelier', method='brent', disp=True))\n",
        "\n",
        "\n",
        "plt.plot(arr_strike, list_iv_bachelier, label = 'Bachelier')\n",
        "plt.plot(arr_strike, list_iv_black, label = 'Black')\n",
        "plt.plot(arr_strike, list_iv_heston, label = 'Heston')\n",
        "plt.title('Bachelier Implied Volatility')\n",
        "plt.xlabel('stike price K')\n",
        "plt.ylabel('implied volatility')\n",
        "plt.legend()\n",
        "plt.show()"
      ],
      "metadata": {
        "colab": {
          "base_uri": "https://localhost:8080/",
          "height": 472
        },
        "id": "N54eRG9gqUNM",
        "outputId": "4adf090d-901b-4210-f6bb-7f8e1bb9faec"
      },
      "execution_count": 16,
      "outputs": [
        {
          "output_type": "display_data",
          "data": {
            "text/plain": [
              "<Figure size 640x480 with 1 Axes>"
            ],
            "image/png": "[encoded data removed]"
          },
          "metadata": {}
        }
      ]
    },
    {
      "cell_type": "code",
      "source": [
        "# Black implied volatility\n",
        "list_iv_bachelier, list_iv_black, list_iv_heston = [], [], []\n",
        "for bachelier_, black_, heston_, stirke_ in zip(arr_bachelier_call, arr_black_call, list_heston_call, arr_strike):\n",
        "  list_iv_bachelier.append(implied_volatility(bachelier_, futures_price, stirke_, risk_free_rate, time_to_maturity,\n",
        "                                                          option_type = 'call', model = 'black', method='brent', disp=True))\n",
        "  list_iv_black.append(implied_volatility(black_, futures_price, stirke_, risk_free_rate, time_to_maturity,\n",
        "                                                          option_type = 'call', model = 'black', method='brent', disp=True))\n",
        "  list_iv_heston.append(implied_volatility(heston_, futures_price, stirke_, risk_free_rate, time_to_maturity,\n",
        "                                                          option_type = 'call', model = 'black', method='brent', disp=True))\n",
        "\n",
        "\n",
        "plt.plot(arr_strike, list_iv_bachelier, label = 'Bachelier')\n",
        "plt.plot(arr_strike, list_iv_black, label = 'Black')\n",
        "plt.plot(arr_strike, list_iv_heston, label = 'Heston')\n",
        "plt.title('Black Implied Volatility')\n",
        "plt.xlabel('stike price K')\n",
        "plt.ylabel('implied volatility')\n",
        "plt.legend()\n",
        "plt.show()"
      ],
      "metadata": {
        "colab": {
          "base_uri": "https://localhost:8080/",
          "height": 472
        },
        "id": "O1msj53sceaD",
        "outputId": "9b6992b2-b7d8-4b76-f2fc-54aee89fe3f2"
      },
      "execution_count": 17,
      "outputs": [
        {
          "output_type": "display_data",
          "data": {
            "text/plain": [
              "<Figure size 640x480 with 1 Axes>"
            ],
            "image/png": "[encoded data removed]"
          },
          "metadata": {}
        }
      ]
    },
    {
      "cell_type": "code",
      "source": [],
      "metadata": {
        "id": "RuA-VL9Mgx-i"
      },
      "execution_count": 17,
      "outputs": []
    },
    {
      "cell_type": "code",
      "source": [
        "# Mount Google Drive\n",
        "from google.colab import drive\n",
        "drive.mount('/content/gdrive')\n",
        "\n",
        "# Read CSV file from Google Drive\n",
        "filename = '/content/gdrive/MyDrive/job preparation/data/' +\\\n",
        "              'clu23-options-american-options-exp-08_17_23-20-strikes-+_--side-by-side-%futuresoptionstime%-07-07-2023.csv'"
      ],
      "metadata": {
        "colab": {
          "base_uri": "https://localhost:8080/"
        },
        "id": "w0NcizQ3CqrK",
        "outputId": "32fcca70-4963-41d7-c5d7-8c2fd9d6c508"
      },
      "execution_count": 18,
      "outputs": [
        {
          "output_type": "stream",
          "name": "stdout",
          "text": [
            "Drive already mounted at /content/gdrive; to attempt to forcibly remount, call drive.mount(\"/content/gdrive\", force_remount=True).\n"
          ]
        }
      ]
    },
    {
      "cell_type": "code",
      "source": [
        "df_raw_data = pd.read_csv(filename, header=0, index_col = 5)\n",
        "df_raw_data = df_raw_data.iloc[:-1]\n",
        "df_raw_data.head()"
      ],
      "metadata": {
        "colab": {
          "base_uri": "https://localhost:8080/",
          "height": 238
        },
        "id": "1l7Ix8gCCx1M",
        "outputId": "1b42a88e-d396-474e-e4b7-a2a19eefb67e"
      },
      "execution_count": 19,
      "outputs": [
        {
          "output_type": "execute_result",
          "data": {
            "text/plain": [
              "        Type   Last Volume Open Int   Premium Type.1 Last.1  Volume.1  \\\n",
              "Strike                                                                  \n",
              "63.0    Call  9.42s    NaN      455  9,420.00    Put   0.56      60.0   \n",
              "63.5    Call  8.99s    NaN      208  8,990.00    Put   0.61      99.0   \n",
              "64.0    Call  8.57s      2       25  8,570.00    Put   0.69      20.0   \n",
              "64.5    Call   8.97      1       13  8,970.00    Put   0.83      20.0   \n",
              "65.0    Call   8.75      5      306  8,750.00    Put   0.85     194.0   \n",
              "\n",
              "       Open Int.1 Premium.1  \n",
              "Strike                       \n",
              "63.0        3,324    560.00  \n",
              "63.5          625    610.00  \n",
              "64.0        1,313    690.00  \n",
              "64.5          331    830.00  \n",
              "65.0       11,955    850.00  "
            ],
            "text/html": [
              "\n",
              "  <div id=\"df-0a14c20f-db94-44e3-aeef-b2012b8e01bf\">\n",
              "    <div class=\"colab-df-container\">\n",
              "      <div>\n",
              "<style scoped>\n",
              "    .dataframe tbody tr th:only-of-type {\n",
              "        vertical-align: middle;\n",
              "    }\n",
              "\n",
              "    .dataframe tbody tr th {\n",
              "        vertical-align: top;\n",
              "    }\n",
              "\n",
              "    .dataframe thead th {\n",
              "        text-align: right;\n",
              "    }\n",
              "</style>\n",
              "<table border=\"1\" class=\"dataframe\">\n",
              "  <thead>\n",
              "    <tr style=\"text-align: right;\">\n",
              "      <th></th>\n",
              "      <th>Type</th>\n",
              "      <th>Last</th>\n",
              "      <th>Volume</th>\n",
              "      <th>Open Int</th>\n",
              "      <th>Premium</th>\n",
              "      <th>Type.1</th>\n",
              "      <th>Last.1</th>\n",
              "      <th>Volume.1</th>\n",
              "      <th>Open Int.1</th>\n",
              "      <th>Premium.1</th>\n",
              "    </tr>\n",
              "    <tr>\n",
              "      <th>Strike</th>\n",
              "      <th></th>\n",
              "      <th></th>\n",
              "      <th></th>\n",
              "      <th></th>\n",
              "      <th></th>\n",
              "      <th></th>\n",
              "      <th></th>\n",
              "      <th></th>\n",
              "      <th></th>\n",
              "      <th></th>\n",
              "    </tr>\n",
              "  </thead>\n",
              "  <tbody>\n",
              "    <tr>\n",
              "      <th>63.0</th>\n",
              "      <td>Call</td>\n",
              "      <td>9.42s</td>\n",
              "      <td>NaN</td>\n",
              "      <td>455</td>\n",
              "      <td>9,420.00</td>\n",
              "      <td>Put</td>\n",
              "      <td>0.56</td>\n",
              "      <td>60.0</td>\n",
              "      <td>3,324</td>\n",
              "      <td>560.00</td>\n",
              "    </tr>\n",
              "    <tr>\n",
              "      <th>63.5</th>\n",
              "      <td>Call</td>\n",
              "      <td>8.99s</td>\n",
              "      <td>NaN</td>\n",
              "      <td>208</td>\n",
              "      <td>8,990.00</td>\n",
              "      <td>Put</td>\n",
              "      <td>0.61</td>\n",
              "      <td>99.0</td>\n",
              "      <td>625</td>\n",
              "      <td>610.00</td>\n",
              "    </tr>\n",
              "    <tr>\n",
              "      <th>64.0</th>\n",
              "      <td>Call</td>\n",
              "      <td>8.57s</td>\n",
              "      <td>2</td>\n",
              "      <td>25</td>\n",
              "      <td>8,570.00</td>\n",
              "      <td>Put</td>\n",
              "      <td>0.69</td>\n",
              "      <td>20.0</td>\n",
              "      <td>1,313</td>\n",
              "      <td>690.00</td>\n",
              "    </tr>\n",
              "    <tr>\n",
              "      <th>64.5</th>\n",
              "      <td>Call</td>\n",
              "      <td>8.97</td>\n",
              "      <td>1</td>\n",
              "      <td>13</td>\n",
              "      <td>8,970.00</td>\n",
              "      <td>Put</td>\n",
              "      <td>0.83</td>\n",
              "      <td>20.0</td>\n",
              "      <td>331</td>\n",
              "      <td>830.00</td>\n",
              "    </tr>\n",
              "    <tr>\n",
              "      <th>65.0</th>\n",
              "      <td>Call</td>\n",
              "      <td>8.75</td>\n",
              "      <td>5</td>\n",
              "      <td>306</td>\n",
              "      <td>8,750.00</td>\n",
              "      <td>Put</td>\n",
              "      <td>0.85</td>\n",
              "      <td>194.0</td>\n",
              "      <td>11,955</td>\n",
              "      <td>850.00</td>\n",
              "    </tr>\n",
              "  </tbody>\n",
              "</table>\n",
              "</div>\n",
              "      <button class=\"colab-df-convert\" onclick=\"convertToInteractive('df-0a14c20f-db94-44e3-aeef-b2012b8e01bf')\"\n",
              "              title=\"Convert this dataframe to an interactive table.\"\n",
              "              style=\"display:none;\">\n",
              "        \n",
              "  <svg xmlns=\"http://www.w3.org/2000/svg\" height=\"24px\"viewBox=\"0 0 24 24\"\n",
              "       width=\"24px\">\n",
              "    <path d=\"M0 0h24v24H0V0z\" fill=\"none\"/>\n",
              "    <path d=\"M18.56 5.44l.94 2.06.94-2.06 2.06-.94-2.06-.94-.94-2.06-.94 2.06-2.06.94zm-11 1L8.5 8.5l.94-2.06 2.06-.94-2.06-.94L8.5 2.5l-.94 2.06-2.06.94zm10 10l.94 2.06.94-2.06 2.06-.94-2.06-.94-.94-2.06-.94 2.06-2.06.94z\"/><path d=\"M17.41 7.96l-1.37-1.37c-.4-.4-.92-.59-1.43-.59-.52 0-1.04.2-1.43.59L10.3 9.45l-7.72 7.72c-.78.78-.78 2.05 0 2.83L4 21.41c.39.39.9.59 1.41.59.51 0 1.02-.2 1.41-.59l7.78-7.78 2.81-2.81c.8-.78.8-2.07 0-2.86zM5.41 20L4 18.59l7.72-7.72 1.47 1.35L5.41 20z\"/>\n",
              "  </svg>\n",
              "      </button>\n",
              "      \n",
              "  <style>\n",
              "    .colab-df-container {\n",
              "      display:flex;\n",
              "      flex-wrap:wrap;\n",
              "      gap: 12px;\n",
              "    }\n",
              "\n",
              "    .colab-df-convert {\n",
              "      background-color: #E8F0FE;\n",
              "      border: none;\n",
              "      border-radius: 50%;\n",
              "      cursor: pointer;\n",
              "      display: none;\n",
              "      fill: #1967D2;\n",
              "      height: 32px;\n",
              "      padding: 0 0 0 0;\n",
              "      width: 32px;\n",
              "    }\n",
              "\n",
              "    .colab-df-convert:hover {\n",
              "      background-color: #E2EBFA;\n",
              "      box-shadow: 0px 1px 2px rgba(60, 64, 67, 0.3), 0px 1px 3px 1px rgba(60, 64, 67, 0.15);\n",
              "      fill: #174EA6;\n",
              "    }\n",
              "\n",
              "    [theme=dark] .colab-df-convert {\n",
              "      background-color: #3B4455;\n",
              "      fill: #D2E3FC;\n",
              "    }\n",
              "\n",
              "    [theme=dark] .colab-df-convert:hover {\n",
              "      background-color: #434B5C;\n",
              "      box-shadow: 0px 1px 3px 1px rgba(0, 0, 0, 0.15);\n",
              "      filter: drop-shadow(0px 1px 2px rgba(0, 0, 0, 0.3));\n",
              "      fill: #FFFFFF;\n",
              "    }\n",
              "  </style>\n",
              "\n",
              "      <script>\n",
              "        const buttonEl =\n",
              "          document.querySelector('#df-0a14c20f-db94-44e3-aeef-b2012b8e01bf button.colab-df-convert');\n",
              "        buttonEl.style.display =\n",
              "          google.colab.kernel.accessAllowed ? 'block' : 'none';\n",
              "\n",
              "        async function convertToInteractive(key) {\n",
              "          const element = document.querySelector('#df-0a14c20f-db94-44e3-aeef-b2012b8e01bf');\n",
              "          const dataTable =\n",
              "            await google.colab.kernel.invokeFunction('convertToInteractive',\n",
              "                                                     [key], {});\n",
              "          if (!dataTable) return;\n",
              "\n",
              "          const docLinkHtml = 'Like what you see? Visit the ' +\n",
              "            '<a target=\"_blank\" href=https://colab.research.google.com/notebooks/data_table.ipynb>data table notebook</a>'\n",
              "            + ' to learn more about interactive tables.';\n",
              "          element.innerHTML = '';\n",
              "          dataTable['output_type'] = 'display_data';\n",
              "          await google.colab.output.renderOutput(dataTable, element);\n",
              "          const docLink = document.createElement('div');\n",
              "          docLink.innerHTML = docLinkHtml;\n",
              "          element.appendChild(docLink);\n",
              "        }\n",
              "      </script>\n",
              "    </div>\n",
              "  </div>\n",
              "  "
            ]
          },
          "metadata": {},
          "execution_count": 19
        }
      ]
    },
    {
      "cell_type": "code",
      "source": [
        "list_data = []\n",
        "for index_ in df_raw_data.index:\n",
        "  if index_ < futures_price:\n",
        "    if not 's' in str(df_raw_data.loc[index_, 'Last.1']):\n",
        "      list_data.append((index_, float(df_raw_data.loc[index_, 'Last.1']), 'put'))\n",
        "  else:\n",
        "    if not 's' in str(df_raw_data.loc[index_, 'Last']):\n",
        "      list_data.append((index_, float(df_raw_data.loc[index_, 'Last']), 'call'))\n",
        "\n",
        "arr_data = np.array(list_data)\n",
        "df_data = pd.DataFrame({'price': arr_data.T[1].astype(float), 'option type': arr_data.T[2]}, index = arr_data.T[0].astype(float))\n",
        "df_data"
      ],
      "metadata": {
        "colab": {
          "base_uri": "https://localhost:8080/",
          "height": 1000
        },
        "id": "LxlXh-eKv1w1",
        "outputId": "591fab2f-64d4-4132-e0ff-1e9157a9234a"
      },
      "execution_count": 20,
      "outputs": [
        {
          "output_type": "execute_result",
          "data": {
            "text/plain": [
              "      price option type\n",
              "63.0   0.56         put\n",
              "63.5   0.61         put\n",
              "64.0   0.69         put\n",
              "64.5   0.83         put\n",
              "65.0   0.85         put\n",
              "65.5   0.91         put\n",
              "66.0   1.05         put\n",
              "66.5   1.10         put\n",
              "67.0   1.24         put\n",
              "67.5   1.37         put\n",
              "68.0   1.48         put\n",
              "68.5   1.65         put\n",
              "69.0   1.81         put\n",
              "69.5   1.94         put\n",
              "70.0   2.11         put\n",
              "70.5   2.47         put\n",
              "71.0   2.93         put\n",
              "71.5   3.25         put\n",
              "72.0   2.89         put\n",
              "72.5   3.12         put\n",
              "73.0   3.00        call\n",
              "73.5   2.87        call\n",
              "74.5   2.14        call\n",
              "75.0   2.26        call\n",
              "75.5   1.95        call\n",
              "76.0   1.83        call\n",
              "76.5   1.66        call\n",
              "77.0   1.50        call\n",
              "77.5   1.20        call\n",
              "78.0   1.30        call\n",
              "78.5   1.10        call\n",
              "79.0   1.05        call\n",
              "79.5   0.86        call\n",
              "80.0   0.84        call\n",
              "80.5   0.71        call\n",
              "81.0   0.62        call\n",
              "81.5   0.60        call\n",
              "82.0   0.54        call\n",
              "82.5   0.44        call"
            ],
            "text/html": [
              "\n",
              "  <div id=\"df-3a2af704-0c29-426f-a6bb-bb3d8143951f\">\n",
              "    <div class=\"colab-df-container\">\n",
              "      <div>\n",
              "<style scoped>\n",
              "    .dataframe tbody tr th:only-of-type {\n",
              "        vertical-align: middle;\n",
              "    }\n",
              "\n",
              "    .dataframe tbody tr th {\n",
              "        vertical-align: top;\n",
              "    }\n",
              "\n",
              "    .dataframe thead th {\n",
              "        text-align: right;\n",
              "    }\n",
              "</style>\n",
              "<table border=\"1\" class=\"dataframe\">\n",
              "  <thead>\n",
              "    <tr style=\"text-align: right;\">\n",
              "      <th></th>\n",
              "      <th>price</th>\n",
              "      <th>option type</th>\n",
              "    </tr>\n",
              "  </thead>\n",
              "  <tbody>\n",
              "    <tr>\n",
              "      <th>63.0</th>\n",
              "      <td>0.56</td>\n",
              "      <td>put</td>\n",
              "    </tr>\n",
              "    <tr>\n",
              "      <th>63.5</th>\n",
              "      <td>0.61</td>\n",
              "      <td>put</td>\n",
              "    </tr>\n",
              "    <tr>\n",
              "      <th>64.0</th>\n",
              "      <td>0.69</td>\n",
              "      <td>put</td>\n",
              "    </tr>\n",
              "    <tr>\n",
              "      <th>64.5</th>\n",
              "      <td>0.83</td>\n",
              "      <td>put</td>\n",
              "    </tr>\n",
              "    <tr>\n",
              "      <th>65.0</th>\n",
              "      <td>0.85</td>\n",
              "      <td>put</td>\n",
              "    </tr>\n",
              "    <tr>\n",
              "      <th>65.5</th>\n",
              "      <td>0.91</td>\n",
              "      <td>put</td>\n",
              "    </tr>\n",
              "    <tr>\n",
              "      <th>66.0</th>\n",
              "      <td>1.05</td>\n",
              "      <td>put</td>\n",
              "    </tr>\n",
              "    <tr>\n",
              "      <th>66.5</th>\n",
              "      <td>1.10</td>\n",
              "      <td>put</td>\n",
              "    </tr>\n",
              "    <tr>\n",
              "      <th>67.0</th>\n",
              "      <td>1.24</td>\n",
              "      <td>put</td>\n",
              "    </tr>\n",
              "    <tr>\n",
              "      <th>67.5</th>\n",
              "      <td>1.37</td>\n",
              "      <td>put</td>\n",
              "    </tr>\n",
              "    <tr>\n",
              "      <th>68.0</th>\n",
              "      <td>1.48</td>\n",
              "      <td>put</td>\n",
              "    </tr>\n",
              "    <tr>\n",
              "      <th>68.5</th>\n",
              "      <td>1.65</td>\n",
              "      <td>put</td>\n",
              "    </tr>\n",
              "    <tr>\n",
              "      <th>69.0</th>\n",
              "      <td>1.81</td>\n",
              "      <td>put</td>\n",
              "    </tr>\n",
              "    <tr>\n",
              "      <th>69.5</th>\n",
              "      <td>1.94</td>\n",
              "      <td>put</td>\n",
              "    </tr>\n",
              "    <tr>\n",
              "      <th>70.0</th>\n",
              "      <td>2.11</td>\n",
              "      <td>put</td>\n",
              "    </tr>\n",
              "    <tr>\n",
              "      <th>70.5</th>\n",
              "      <td>2.47</td>\n",
              "      <td>put</td>\n",
              "    </tr>\n",
              "    <tr>\n",
              "      <th>71.0</th>\n",
              "      <td>2.93</td>\n",
              "      <td>put</td>\n",
              "    </tr>\n",
              "    <tr>\n",
              "      <th>71.5</th>\n",
              "      <td>3.25</td>\n",
              "      <td>put</td>\n",
              "    </tr>\n",
              "    <tr>\n",
              "      <th>72.0</th>\n",
              "      <td>2.89</td>\n",
              "      <td>put</td>\n",
              "    </tr>\n",
              "    <tr>\n",
              "      <th>72.5</th>\n",
              "      <td>3.12</td>\n",
              "      <td>put</td>\n",
              "    </tr>\n",
              "    <tr>\n",
              "      <th>73.0</th>\n",
              "      <td>3.00</td>\n",
              "      <td>call</td>\n",
              "    </tr>\n",
              "    <tr>\n",
              "      <th>73.5</th>\n",
              "      <td>2.87</td>\n",
              "      <td>call</td>\n",
              "    </tr>\n",
              "    <tr>\n",
              "      <th>74.5</th>\n",
              "      <td>2.14</td>\n",
              "      <td>call</td>\n",
              "    </tr>\n",
              "    <tr>\n",
              "      <th>75.0</th>\n",
              "      <td>2.26</td>\n",
              "      <td>call</td>\n",
              "    </tr>\n",
              "    <tr>\n",
              "      <th>75.5</th>\n",
              "      <td>1.95</td>\n",
              "      <td>call</td>\n",
              "    </tr>\n",
              "    <tr>\n",
              "      <th>76.0</th>\n",
              "      <td>1.83</td>\n",
              "      <td>call</td>\n",
              "    </tr>\n",
              "    <tr>\n",
              "      <th>76.5</th>\n",
              "      <td>1.66</td>\n",
              "      <td>call</td>\n",
              "    </tr>\n",
              "    <tr>\n",
              "      <th>77.0</th>\n",
              "      <td>1.50</td>\n",
              "      <td>call</td>\n",
              "    </tr>\n",
              "    <tr>\n",
              "      <th>77.5</th>\n",
              "      <td>1.20</td>\n",
              "      <td>call</td>\n",
              "    </tr>\n",
              "    <tr>\n",
              "      <th>78.0</th>\n",
              "      <td>1.30</td>\n",
              "      <td>call</td>\n",
              "    </tr>\n",
              "    <tr>\n",
              "      <th>78.5</th>\n",
              "      <td>1.10</td>\n",
              "      <td>call</td>\n",
              "    </tr>\n",
              "    <tr>\n",
              "      <th>79.0</th>\n",
              "      <td>1.05</td>\n",
              "      <td>call</td>\n",
              "    </tr>\n",
              "    <tr>\n",
              "      <th>79.5</th>\n",
              "      <td>0.86</td>\n",
              "      <td>call</td>\n",
              "    </tr>\n",
              "    <tr>\n",
              "      <th>80.0</th>\n",
              "      <td>0.84</td>\n",
              "      <td>call</td>\n",
              "    </tr>\n",
              "    <tr>\n",
              "      <th>80.5</th>\n",
              "      <td>0.71</td>\n",
              "      <td>call</td>\n",
              "    </tr>\n",
              "    <tr>\n",
              "      <th>81.0</th>\n",
              "      <td>0.62</td>\n",
              "      <td>call</td>\n",
              "    </tr>\n",
              "    <tr>\n",
              "      <th>81.5</th>\n",
              "      <td>0.60</td>\n",
              "      <td>call</td>\n",
              "    </tr>\n",
              "    <tr>\n",
              "      <th>82.0</th>\n",
              "      <td>0.54</td>\n",
              "      <td>call</td>\n",
              "    </tr>\n",
              "    <tr>\n",
              "      <th>82.5</th>\n",
              "      <td>0.44</td>\n",
              "      <td>call</td>\n",
              "    </tr>\n",
              "  </tbody>\n",
              "</table>\n",
              "</div>\n",
              "      <button class=\"colab-df-convert\" onclick=\"convertToInteractive('df-3a2af704-0c29-426f-a6bb-bb3d8143951f')\"\n",
              "              title=\"Convert this dataframe to an interactive table.\"\n",
              "              style=\"display:none;\">\n",
              "        \n",
              "  <svg xmlns=\"http://www.w3.org/2000/svg\" height=\"24px\"viewBox=\"0 0 24 24\"\n",
              "       width=\"24px\">\n",
              "    <path d=\"M0 0h24v24H0V0z\" fill=\"none\"/>\n",
              "    <path d=\"M18.56 5.44l.94 2.06.94-2.06 2.06-.94-2.06-.94-.94-2.06-.94 2.06-2.06.94zm-11 1L8.5 8.5l.94-2.06 2.06-.94-2.06-.94L8.5 2.5l-.94 2.06-2.06.94zm10 10l.94 2.06.94-2.06 2.06-.94-2.06-.94-.94-2.06-.94 2.06-2.06.94z\"/><path d=\"M17.41 7.96l-1.37-1.37c-.4-.4-.92-.59-1.43-.59-.52 0-1.04.2-1.43.59L10.3 9.45l-7.72 7.72c-.78.78-.78 2.05 0 2.83L4 21.41c.39.39.9.59 1.41.59.51 0 1.02-.2 1.41-.59l7.78-7.78 2.81-2.81c.8-.78.8-2.07 0-2.86zM5.41 20L4 18.59l7.72-7.72 1.47 1.35L5.41 20z\"/>\n",
              "  </svg>\n",
              "      </button>\n",
              "      \n",
              "  <style>\n",
              "    .colab-df-container {\n",
              "      display:flex;\n",
              "      flex-wrap:wrap;\n",
              "      gap: 12px;\n",
              "    }\n",
              "\n",
              "    .colab-df-convert {\n",
              "      background-color: #E8F0FE;\n",
              "      border: none;\n",
              "      border-radius: 50%;\n",
              "      cursor: pointer;\n",
              "      display: none;\n",
              "      fill: #1967D2;\n",
              "      height: 32px;\n",
              "      padding: 0 0 0 0;\n",
              "      width: 32px;\n",
              "    }\n",
              "\n",
              "    .colab-df-convert:hover {\n",
              "      background-color: #E2EBFA;\n",
              "      box-shadow: 0px 1px 2px rgba(60, 64, 67, 0.3), 0px 1px 3px 1px rgba(60, 64, 67, 0.15);\n",
              "      fill: #174EA6;\n",
              "    }\n",
              "\n",
              "    [theme=dark] .colab-df-convert {\n",
              "      background-color: #3B4455;\n",
              "      fill: #D2E3FC;\n",
              "    }\n",
              "\n",
              "    [theme=dark] .colab-df-convert:hover {\n",
              "      background-color: #434B5C;\n",
              "      box-shadow: 0px 1px 3px 1px rgba(0, 0, 0, 0.15);\n",
              "      filter: drop-shadow(0px 1px 2px rgba(0, 0, 0, 0.3));\n",
              "      fill: #FFFFFF;\n",
              "    }\n",
              "  </style>\n",
              "\n",
              "      <script>\n",
              "        const buttonEl =\n",
              "          document.querySelector('#df-3a2af704-0c29-426f-a6bb-bb3d8143951f button.colab-df-convert');\n",
              "        buttonEl.style.display =\n",
              "          google.colab.kernel.accessAllowed ? 'block' : 'none';\n",
              "\n",
              "        async function convertToInteractive(key) {\n",
              "          const element = document.querySelector('#df-3a2af704-0c29-426f-a6bb-bb3d8143951f');\n",
              "          const dataTable =\n",
              "            await google.colab.kernel.invokeFunction('convertToInteractive',\n",
              "                                                     [key], {});\n",
              "          if (!dataTable) return;\n",
              "\n",
              "          const docLinkHtml = 'Like what you see? Visit the ' +\n",
              "            '<a target=\"_blank\" href=https://colab.research.google.com/notebooks/data_table.ipynb>data table notebook</a>'\n",
              "            + ' to learn more about interactive tables.';\n",
              "          element.innerHTML = '';\n",
              "          dataTable['output_type'] = 'display_data';\n",
              "          await google.colab.output.renderOutput(dataTable, element);\n",
              "          const docLink = document.createElement('div');\n",
              "          docLink.innerHTML = docLinkHtml;\n",
              "          element.appendChild(docLink);\n",
              "        }\n",
              "      </script>\n",
              "    </div>\n",
              "  </div>\n",
              "  "
            ]
          },
          "metadata": {},
          "execution_count": 20
        }
      ]
    },
    {
      "cell_type": "code",
      "source": [
        "# Bachelier and Black implied volatility\n",
        "list_mkt_iv_bachelier, list_mkt_iv_black = [], []\n",
        "for strike_, price_, option_type_ in zip(df_data.index, df_data.loc[:,'price'], df_data.loc[:,'option type']):\n",
        "  list_mkt_iv_bachelier.append(implied_volatility(price_, futures_price, strike_, risk_free_rate, time_to_maturity,\n",
        "                                                          option_type = option_type_, model = 'bachelier', method='brent', disp=False))\n",
        "  list_mkt_iv_black.append(implied_volatility(price_, futures_price, strike_, risk_free_rate, time_to_maturity,\n",
        "                                                          option_type = option_type_, model = 'black', method='brent', disp=False))\n",
        "\n",
        "fig = plt.figure(figsize=(16,5))\n",
        "\n",
        "ax1 = fig.add_subplot(121)\n",
        "ax1.plot(df_data.index, list_mkt_iv_bachelier)\n",
        "ax1.set_title('Bachelier Implied Volatility')\n",
        "ax1.set_xlabel('stike price K')\n",
        "ax1.set_ylabel('implied volatility')\n",
        "\n",
        "ax2 = fig.add_subplot(122)\n",
        "ax2.plot(df_data.index, list_mkt_iv_black)\n",
        "ax2.set_title('Black Implied Volatility')\n",
        "ax2.set_xlabel('stike price K')\n",
        "ax2.set_ylabel('implied volatility')\n",
        "\n",
        "plt.show()"
      ],
      "metadata": {
        "colab": {
          "base_uri": "https://localhost:8080/",
          "height": 487
        },
        "id": "YeX8eQpSU3oQ",
        "outputId": "e5a992e9-b7b9-498b-e0f8-2e5f7ac1a47a"
      },
      "execution_count": 21,
      "outputs": [
        {
          "output_type": "display_data",
          "data": {
            "text/plain": [
              "<Figure size 1600x500 with 2 Axes>"
            ],
            "image/png": "[encoded data removed]"
          },
          "metadata": {}
        }
      ]
    }
  ]
}