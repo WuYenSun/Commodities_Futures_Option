{
  "nbformat": 4,
  "nbformat_minor": 0,
  "metadata": {
    "colab": {
      "provenance": [],
      "toc_visible": true
    },
    "kernelspec": {
      "name": "python3",
      "display_name": "Python 3"
    },
    "language_info": {
      "name": "python"
    }
  },
  "cells": [
    {
      "cell_type": "code",
      "execution_count": 1,
      "metadata": {
        "id": "wCVM5NWsjtII"
      },
      "outputs": [],
      "source": [
        "import numpy as np\n",
        "import pandas as pd\n",
        "import matplotlib.pyplot as plt\n",
        "from functools import partial\n",
        "from scipy import integrate, sparse\n",
        "from scipy.stats import norm, multivariate_normal\n",
        "from scipy.optimize import brentq, fsolve, minimize_scalar"
      ]
    },
    {
      "cell_type": "code",
      "source": [
        "# Parameters (WTI Sep '23 (CLU23) on July 07 2023)\n",
        "futures_price = 73.77\n",
        "strike_price = 80\n",
        "risk_free_rate = 0.05235\n",
        "time_to_maturity = 40/365\n",
        "vol_black = 0.32\n",
        "vol_bachelier = vol_black * futures_price"
      ],
      "metadata": {
        "id": "LTC5Lb81lV_6"
      },
      "execution_count": 2,
      "outputs": []
    },
    {
      "cell_type": "code",
      "source": [],
      "metadata": {
        "id": "xd0E5joGjNO8"
      },
      "execution_count": 2,
      "outputs": []
    },
    {
      "cell_type": "markdown",
      "source": [
        "## Bachelier (1900)\n",
        "\\begin{align*}\n",
        "& dF_t = \\sigma_a dW_t \\\\\\\\\n",
        "& C_{BC}(F, K,\\sigma_a, r,\\tau) = e^{-r\\tau} \\ [(F-K)N(m_a) + \\sigma_a\\sqrt{\\tau}n(m_a)] \\\\\n",
        "& P_{BC}(F, K,\\sigma_a, r,\\tau) = e^{-r\\tau} \\ [(K-F)(1-N(m_a)) + \\sigma_a\\sqrt{\\tau}n(m_a)] \\\\\\\\\n",
        "&\\textit{ where} \\\\\n",
        "&\\ m_a = \\frac{F-K}{\\sigma_a \\sqrt{\\tau}}\n",
        "\\end{align*}"
      ],
      "metadata": {
        "id": "UyuCTH1yomEZ"
      }
    },
    {
      "cell_type": "code",
      "source": [
        "# Bachelier (1900)\n",
        "\n",
        "class Bachelier:\n",
        "    def __init__(self, F, vol, r, tau):\n",
        "      self.F = F\n",
        "      self.vol = vol\n",
        "      self.r = r\n",
        "      self.tau = tau\n",
        "\n",
        "\n",
        "    def option_pricer(self, K, vol = None, option_type = 'call'):\n",
        "      '''\n",
        "      Bachelier formula\n",
        "      return call/put option price\n",
        "      '''\n",
        "      # default parameter (to compute implied vol)\n",
        "      if vol == None:\n",
        "          vol = self.vol\n",
        "\n",
        "      m = (self.F - K) / (vol * self.tau**0.5)\n",
        "      if option_type == 'call':\n",
        "          return np.exp(-self.r * self.tau) * ((self.F - K) * norm.cdf(m) + vol * self.tau**0.5 * norm.pdf(m))\n",
        "      elif option_type == 'put':\n",
        "          return np.exp(-self.r * self.tau) * ((K - self.F) * (1 - norm.cdf(m)) + vol * self.tau**0.5 * norm.pdf(m))\n",
        "\n",
        "\n",
        "    def simulate_F(self, paths = 100000, steps = 2):\n",
        "      '''\n",
        "      Monte Carlo simulation\n",
        "      return underlying futures price and time vector\n",
        "      '''\n",
        "      # initialize vectors\n",
        "      arr_F = np.zeros((paths, steps))\n",
        "      arr_F[:,0] = self.F\n",
        "\n",
        "      # generate Brownian motion\n",
        "      arr_w = np.random.standard_normal(size = (paths, steps-1))\n",
        "\n",
        "      # compute the corresponding price\n",
        "      t_vec, dt = np.linspace(0, self.tau, steps, retstep=True)\n",
        "      for t in range(0, steps-1):\n",
        "        arr_F[:,t+1] = arr_F[:,t] + self.vol * dt**0.5 * arr_w[:,t]\n",
        "\n",
        "      return arr_F, t_vec\n",
        "\n",
        "\n",
        "    def implicit_FD(self, K, option_type = 'call'):\n",
        "      '''\n",
        "      The implicit finite difference\n",
        "      return call/put option price\n",
        "      '''\n",
        "      # PDE: V_t + aV_ff + bV_f + cV = 0\n",
        "      a = lambda f : 0.5 * self.vol**2\n",
        "      b = lambda f : 0\n",
        "      c = lambda f : -self.r\n",
        "\n",
        "      # Grid Parameters\n",
        "      f_max = self.F + 100                                                        # space upper boundary\n",
        "      f_min = self.F - 100                                                        # space lower boundary\n",
        "      M = int(10*(f_max-f_min)) + 1                                               # the number of space steps\n",
        "      N = int(100*252*self.tau)                                                   # the number of time steps\n",
        "\n",
        "      # Grid Construction\n",
        "      arr_f, df = np.linspace(f_min, f_max, M, retstep=True)                      # space discretization\n",
        "      arr_t, dt = np.linspace(0, self.tau, N, retstep=True)                       # time discretization\n",
        "      V = np.zeros((M, N))                                                        # grid initialization\n",
        "      if option_type == 'call':\n",
        "          V[:,0] = np.maximum(0, arr_f - K)                                       # European call option payoff (terminal condition)\n",
        "          V[0,:] = 0                                                              # boundary condition\n",
        "          V[-1,:] = (f_max - K) * np.exp(-self.r*arr_t)                           # boundary condition\n",
        "      elif option_type == 'put':\n",
        "          V[:,0] = np.maximum(0, K - arr_f)                                       # European put option payoff (terminal condition)\n",
        "          V[0,:] = (K - f_min)* np.exp(-self.r*arr_t)                             # boundary condition\n",
        "          V[-1,:] = 0                                                             # boundary condition\n",
        "\n",
        "      # Tri-diagonal Matrix Construction\n",
        "      alpha = lambda f : -a(f)*dt/df**2 + b(f)*dt/2/df\n",
        "      beta = lambda f : 1 + 2*a(f)*dt/df**2 - c(f)*dt\n",
        "      gamma = lambda f : -a(f)*dt/df**2 - b(f)*dt/2/df\n",
        "\n",
        "      D = np.zeros(shape = (M-2,M-2))\n",
        "      D[0,0], D[0,1], D[-1,-2], D[-1,-1] = beta(arr_f[1]), gamma(arr_f[1]), alpha(arr_f[-2]), beta(arr_f[-2])\n",
        "      for m in range(1, M-3):\n",
        "          D[m,m-1], D[m,m], D[m,m+1] = alpha(arr_f[m+1]), beta(arr_f[m+1]), gamma(arr_f[m+1])\n",
        "      D = sparse.csr_matrix(D)\n",
        "\n",
        "      # Grid Computation\n",
        "      rem = np.zeros(shape = (M-2,))\n",
        "      for n in range(1,N):\n",
        "          rem[0], rem[-1] = alpha(arr_f[1])*V[0,n-1], gamma(arr_f[-2])*V[-1,n-1]\n",
        "          V[1:-1,n] =  sparse.linalg.spsolve(D, V[1:-1, n-1] - rem)\n",
        "\n",
        "      return V[ round( (self.F - f_min)/df), -1]\n",
        ""
      ],
      "metadata": {
        "id": "5reK8smd_TkL"
      },
      "execution_count": 3,
      "outputs": []
    },
    {
      "cell_type": "code",
      "source": [
        "# Bachelier formula\n",
        "bachelier = Bachelier(futures_price, vol_bachelier, risk_free_rate, time_to_maturity)\n",
        "bachelier_call = bachelier.option_pricer(K = strike_price, option_type = 'call')\n",
        "bachelier_put = bachelier.option_pricer(K = strike_price, option_type = 'put')\n",
        "\n",
        "print(f'Bachelier formula:')\n",
        "print(f'call is {bachelier_call:.4f}')\n",
        "print(f'put is {bachelier_put:.4f}')"
      ],
      "metadata": {
        "colab": {
          "base_uri": "https://localhost:8080/"
        },
        "id": "3yE1YDfcHDGD",
        "outputId": "8c7ffaf2-889b-4fef-da72-7e112b6d32a2"
      },
      "execution_count": 4,
      "outputs": [
        {
          "output_type": "stream",
          "name": "stdout",
          "text": [
            "Bachelier formula:\n",
            "call is 0.9386\n",
            "put is 7.1330\n"
          ]
        }
      ]
    },
    {
      "cell_type": "code",
      "source": [
        "# Monte Carlo simulation\n",
        "paths = 1000000\n",
        "arr_F, _ = bachelier.simulate_F(paths = paths)\n",
        "\n",
        "arr_V = np.exp(-risk_free_rate*time_to_maturity) * np.maximum(arr_F[:,-1] - strike_price, 0)\n",
        "bachelier_call_mc, ste_call = arr_V.mean(), arr_V.std() / paths**0.5\n",
        "arr_V = np.exp(-risk_free_rate*time_to_maturity) * np.maximum(strike_price - arr_F[:,-1], 0)\n",
        "bachelier_put_mc, ste_put = arr_V.mean(), arr_V.std() / paths**0.5\n",
        "\n",
        "print(f'Monte Carlo simulation:')\n",
        "print(f'call is {bachelier_call_mc:.4f} with standard error {ste_call:.6f}')\n",
        "print(f'put is {bachelier_put_mc:.4f} with standard error {ste_put:.6f}')"
      ],
      "metadata": {
        "colab": {
          "base_uri": "https://localhost:8080/"
        },
        "id": "1mK0_8_y_b38",
        "outputId": "c8ee572c-e516-490b-d7bc-38227728219c"
      },
      "execution_count": 5,
      "outputs": [
        {
          "output_type": "stream",
          "name": "stdout",
          "text": [
            "Monte Carlo simulation:\n",
            "call is 0.9419 with standard error 0.002489\n",
            "put is 7.1293 with standard error 0.006394\n"
          ]
        }
      ]
    },
    {
      "cell_type": "code",
      "source": [
        "# Finite difference method (implicit)\n",
        "bachelier_call_df = bachelier.implicit_FD(K = strike_price, option_type = 'call')\n",
        "bachelier_put_fd = bachelier.implicit_FD(K = strike_price, option_type = 'put')\n",
        "print(f'Finite difference method (implicit):')\n",
        "print(f'call is {bachelier_call_df:.4f}')\n",
        "print(f'put is {bachelier_put_fd:.4f}')"
      ],
      "metadata": {
        "id": "Ldr1YUruinTY",
        "colab": {
          "base_uri": "https://localhost:8080/"
        },
        "outputId": "4311bd94-0a7f-48f1-8c65-e973c0a10c62"
      },
      "execution_count": 6,
      "outputs": [
        {
          "output_type": "stream",
          "name": "stdout",
          "text": [
            "Finite difference method (implicit):\n",
            "call is 0.9386\n",
            "put is 7.1329\n"
          ]
        }
      ]
    },
    {
      "cell_type": "code",
      "source": [],
      "metadata": {
        "id": "m1PfhuYQbOfF"
      },
      "execution_count": 6,
      "outputs": []
    },
    {
      "cell_type": "markdown",
      "source": [
        "## Black (1976)\n",
        "\\begin{align*}\n",
        "& dF_t = \\sigma_G F_tdW_t \\\\\\\\\n",
        "& C_{BL}(F, K,\\sigma_G, r,\\tau) = e^{-r\\tau} \\ [FN(m_G + \\frac{\\sigma_G\\sqrt{\\tau}}{2}) - KN(m_G - \\frac{\\sigma_G\\sqrt{\\tau}}{2})] \\\\\n",
        "& P_{BL}(F, K,\\sigma_G, r,\\tau) = e^{-r\\tau} \\ [K(1-N(m_G - \\frac{\\sigma_G\\sqrt{\\tau}}{2})) - F(1-N(m_G + \\frac{\\sigma_G\\sqrt{\\tau}}{2}))] \\\\\\\\\n",
        "& \\textit{ where} \\\\\n",
        "&\\ m_G = \\frac{ln(F-K)}{\\sigma_G \\sqrt{\\tau}}\n",
        "\\end{align*}"
      ],
      "metadata": {
        "id": "vv_7CIdiZhn6"
      }
    },
    {
      "cell_type": "code",
      "source": [
        "# Black (1976)\n",
        "\n",
        "class Black:\n",
        "    def __init__(self, F, vol, r, tau):\n",
        "      self.F = F\n",
        "      self.vol = vol\n",
        "      self.r = r\n",
        "      self.tau = tau\n",
        "\n",
        "\n",
        "    def option_pricer(self, K, vol = None, option_type = 'call'):\n",
        "      '''\n",
        "      Black formula\n",
        "      return call/put option price\n",
        "      '''\n",
        "      # default parameter (to compute implied vol)\n",
        "      if vol == None:\n",
        "          vol = self.vol\n",
        "\n",
        "      m = np.log(self.F / K) / (vol * self.tau**0.5)\n",
        "      if option_type == 'call':\n",
        "          return np.exp(-self.r * self.tau) * ( self.F * norm.cdf(m + 0.5*vol*self.tau**0.5) -\n",
        "                                                      K * norm.cdf(m - 0.5*vol*self.tau**0.5))\n",
        "      elif option_type == 'put':\n",
        "          return np.exp(-self.r * self.tau) * ( K * (1 - norm.cdf(m - 0.5*vol*self.tau**0.5)) -\n",
        "                                                      self.F * (1 - norm.cdf(m + 0.5*vol*self.tau**0.5)))\n",
        "\n",
        "\n",
        "    def simulate_F(self, paths = 100000, steps = 2):\n",
        "      '''\n",
        "      Monte Carlo simulation\n",
        "      return underlying futures price and time vector\n",
        "      '''\n",
        "      # initialize vectors\n",
        "      arr_F = np.zeros((paths, steps))\n",
        "      arr_F[:,0] = self.F\n",
        "\n",
        "      # generate Brownian motion\n",
        "      arr_w = np.random.standard_normal(size = (paths, steps-1))\n",
        "\n",
        "      # compute the corresponding price\n",
        "      t_vec, dt = np.linspace(0, self.tau, steps, retstep=True)\n",
        "      for t in range(0, steps-1):\n",
        "          arr_F[:,t+1] = arr_F[:,t] * np.exp( -0.5 * self.vol**2 * dt + self.vol * dt**0.5 * arr_w[:,t] )\n",
        "\n",
        "      return arr_F, t_vec\n",
        "\n",
        "\n",
        "    def implicit_FD(self, K, option_type = 'call'):\n",
        "      '''\n",
        "      The implicit finite difference\n",
        "      return call/put option price\n",
        "      '''\n",
        "      # PDE: V_t + aV_ff + bV_f + cV = 0\n",
        "      a = lambda f : 0.5 * (f * self.vol)**2\n",
        "      b = lambda f : 0\n",
        "      c = lambda f : -self.r\n",
        "\n",
        "      # Grid Parameters\n",
        "      f_max = self.F + 100                                                        # space upper boundary\n",
        "      f_min = self.F - 100                                                        # space lower boundary\n",
        "      M = int(8*(f_max-f_min)) + 1                                                # the number of space steps\n",
        "      N = int(100*252*self.tau)                                                   # the number of time steps\n",
        "\n",
        "      # Grid Construction\n",
        "      arr_f, df = np.linspace(f_min, f_max, M, retstep=True)                      # space discretization\n",
        "      arr_t, dt = np.linspace(0, self.tau, N, retstep=True)                       # time discretization\n",
        "      V = np.zeros((M, N))                                                        # grid initialization\n",
        "      if option_type == 'call':\n",
        "          V[:,0] = np.maximum(0, arr_f - K)                                       # European call option payoff (terminal condition)\n",
        "          V[0,:] = 0                                                              # boundary condition\n",
        "          V[-1,:] = (f_max - K) * np.exp(-self.r*arr_t)                           # boundary condition\n",
        "      elif option_type == 'put':\n",
        "          V[:,0] = np.maximum(0, K - arr_f)                                       # European put option payoff (terminal condition)\n",
        "          V[0,:] = (K - f_min)* np.exp(-self.r*arr_t)                             # boundary condition\n",
        "          V[-1,:] = 0                                                             # boundary condition\n",
        "\n",
        "      # Tri-diagonal Matrix Construction\n",
        "      alpha = lambda f : -a(f)*dt/df**2 + b(f)*dt/2/df\n",
        "      beta = lambda f : 1 + 2*a(f)*dt/df**2 - c(f)*dt\n",
        "      gamma = lambda f : -a(f)*dt/df**2 - b(f)*dt/2/df\n",
        "\n",
        "      D = np.zeros(shape = (M-2,M-2))\n",
        "      D[0,0], D[0,1], D[-1,-2], D[-1,-1] = beta(arr_f[1]), gamma(arr_f[1]), alpha(arr_f[-2]), beta(arr_f[-2])\n",
        "      for m in range(1, M-3):\n",
        "          D[m,m-1], D[m,m], D[m,m+1] = alpha(arr_f[m+1]), beta(arr_f[m+1]), gamma(arr_f[m+1])\n",
        "      D = sparse.csr_matrix(D)\n",
        "\n",
        "      # Grid Computation\n",
        "      rem = np.zeros(shape = (M-2,))\n",
        "      for n in range(1,N):\n",
        "          rem[0], rem[-1] = alpha(arr_f[1])*V[0,n-1], gamma(arr_f[-2])*V[-1,n-1]\n",
        "          V[1:-1,n] =  sparse.linalg.spsolve(D, V[1:-1, n-1] - rem)\n",
        "\n",
        "      return V[ round( (self.F - f_min)/df), -1]\n"
      ],
      "metadata": {
        "id": "mUS2tje3JZ7a"
      },
      "execution_count": 7,
      "outputs": []
    },
    {
      "cell_type": "code",
      "source": [
        "# Black formula\n",
        "black = Black(futures_price, vol_black, risk_free_rate, time_to_maturity)\n",
        "black_call = black.option_pricer(K = strike_price, option_type = 'call')\n",
        "black_put = black.option_pricer(K = strike_price, option_type = 'put')\n",
        "\n",
        "print(f'Black formula:')\n",
        "print(f'call is {black_call:.4f}')\n",
        "print(f'put is {black_put:.4f}')"
      ],
      "metadata": {
        "colab": {
          "base_uri": "https://localhost:8080/"
        },
        "id": "MsoKS2_wQhCk",
        "outputId": "e024241e-7840-4946-af49-1e063464677b"
      },
      "execution_count": 8,
      "outputs": [
        {
          "output_type": "stream",
          "name": "stdout",
          "text": [
            "Black formula:\n",
            "call is 1.0327\n",
            "put is 7.2270\n"
          ]
        }
      ]
    },
    {
      "cell_type": "code",
      "source": [
        "# Monte Carlo simulation\n",
        "paths = 1000000\n",
        "arr_F, _ = black.simulate_F(paths = paths)\n",
        "\n",
        "arr_V = np.exp(-risk_free_rate*time_to_maturity) * np.maximum(arr_F[:,-1] - strike_price, 0)\n",
        "black_call_mc, ste_call = arr_V.mean(), arr_V.std() / paths**0.5\n",
        "arr_V = np.exp(-risk_free_rate*time_to_maturity) * np.maximum(strike_price - arr_F[:,-1], 0)\n",
        "black_put_mc, ste_put = arr_V.mean(), arr_V.std() / paths**0.5\n",
        "\n",
        "print(f'Monte Carlo simulation:')\n",
        "print(f'call is {black_call_mc:.4f} with standard error {ste_call:.6f}')\n",
        "print(f'put is {black_put_mc:.4f} with standard error {ste_put:.6f}')"
      ],
      "metadata": {
        "colab": {
          "base_uri": "https://localhost:8080/"
        },
        "id": "Iv7dBPTgQr91",
        "outputId": "baed1c54-b799-4b4d-bb01-321e26f7613b"
      },
      "execution_count": 9,
      "outputs": [
        {
          "output_type": "stream",
          "name": "stdout",
          "text": [
            "Monte Carlo simulation:\n",
            "call is 1.0305 with standard error 0.002822\n",
            "put is 7.2285 with standard error 0.006147\n"
          ]
        }
      ]
    },
    {
      "cell_type": "code",
      "source": [
        "# Finite difference method (implicit)\n",
        "black_call_df = black.implicit_FD(K = strike_price, option_type = 'call')\n",
        "black_put_fd = black.implicit_FD(K = strike_price, option_type = 'put')\n",
        "print(f'Finite difference method (implicit):')\n",
        "print(f'call is {black_call_df:.4f}')\n",
        "print(f'put is {black_put_fd:.4f}')"
      ],
      "metadata": {
        "id": "1PI-8p2lmCcr",
        "colab": {
          "base_uri": "https://localhost:8080/"
        },
        "outputId": "2fc44e92-1b22-4605-8a90-66123ddfcccf"
      },
      "execution_count": 10,
      "outputs": [
        {
          "output_type": "stream",
          "name": "stdout",
          "text": [
            "Finite difference method (implicit):\n",
            "call is 1.0326\n",
            "put is 7.2269\n"
          ]
        }
      ]
    },
    {
      "cell_type": "code",
      "source": [],
      "metadata": {
        "id": "3r6-hlNGgwCA"
      },
      "execution_count": 10,
      "outputs": []
    },
    {
      "cell_type": "markdown",
      "source": [
        "## Heston (1993)\n",
        "\\begin{cases}\n",
        "dF_t = \\sqrt{v_t} F_t dW^1_t \\\\\n",
        "dv_t = \\kappa (\\theta - v_t) dt + \\sigma \\sqrt{v_t} dW^2_t\\\\\n",
        "dW^1_tdW^2_t = \\rho dt\n",
        "\\end{cases}"
      ],
      "metadata": {
        "id": "M8PDhyNaZrkD"
      }
    },
    {
      "cell_type": "code",
      "source": [
        "# Heston (1993)\n",
        "\n",
        "def cf(u, tau, mu, rho, v0, theta, kappa, sigma):\n",
        "    '''\n",
        "    Heston characteristic function in Schoutens (2004)\n",
        "    '''\n",
        "    d = ((kappa - rho*sigma*u*1j)**2 + sigma**2*(1j*u + u**2))**0.5\n",
        "    g = (kappa - rho*sigma*u*1j - d)/(kappa - rho*sigma*u*1j + d)\n",
        "    cf_ = np.exp( 1j*u*mu*tau +\n",
        "                 theta*kappa*sigma**-2*((kappa - rho*sigma*u*1j - d)*tau - 2*np.log((1 - g*np.exp(-d*tau))/( 1 - g))) +\n",
        "                 v0*sigma**-2*(kappa - rho*sigma*u*1j - d)*(1 - np.exp(-d*tau))/(1 - g*np.exp(-d*tau)) )\n",
        "    return cf_\n",
        "\n",
        "\n",
        "class Heston:\n",
        "    def __init__(self, F, v0, theta, kappa, sigma, rho,  r, tau):\n",
        "      self.F = F\n",
        "      self.v0 = v0 # spot variance\n",
        "      self.theta = theta\n",
        "      self.kappa = kappa\n",
        "      self.sigma = sigma\n",
        "      self.rho = rho\n",
        "      self.r = r\n",
        "      self.tau = tau\n",
        "      if 2*kappa * theta < sigma**2:\n",
        "          print(f'Warning: Feller condition fails')\n",
        "\n",
        "\n",
        "    def option_pricer(self, K, option_type = 'call'):\n",
        "      '''\n",
        "      Fourier inversion\n",
        "      return call/put option price\n",
        "      '''\n",
        "      k = np.log(K/self.F)\n",
        "      cf_ = partial(cf, tau = self.tau, mu = 0, rho = self.rho, v0 = self.v0,\n",
        "                    theta = self.theta, kappa = self.kappa, sigma = self.sigma )\n",
        "\n",
        "      integrand_Q1 = lambda u: np.real((np.exp(-u*k*1j) * cf_(u-1j) / (u*1j)) / cf_(-1j))\n",
        "      integrand_Q2 = lambda u: np.real(np.exp(-u*k*1j) * cf_(u) / (u*1j))\n",
        "\n",
        "      Q1 = 1/2 + 1/np.pi * integrate.quad(integrand_Q1, 1e-15, np.inf, limit=2000)[0]\n",
        "      Q2 = 1/2 + 1/np.pi * integrate.quad(integrand_Q2, 1e-15, np.inf, limit=2000)[0]\n",
        "\n",
        "      if option_type == 'call':\n",
        "          return np.exp(-self.r * self.tau) * ( self.F * Q1 - K * Q2)\n",
        "      elif option_type == 'put':\n",
        "          return np.exp(-self.r * self.tau) * ( K * (1-Q2) - self.F * (1-Q1) )\n",
        "\n",
        "\n",
        "    def simulate_F(self, paths = 10000, steps = None):\n",
        "      '''\n",
        "      Monte Carlo simulation\n",
        "      return underlying futures price and time vector\n",
        "      '''\n",
        "      # default parameter\n",
        "      if steps == None:\n",
        "          steps = int(self.tau*252*10)\n",
        "\n",
        "      # Initialize vectors\n",
        "      arr_F = np.zeros((paths,steps)); arr_F[:,0] = self.F\n",
        "      arr_v = np.zeros((paths,steps)); arr_v[:,0] = self.v0\n",
        "\n",
        "      # Generate 2D Brownian motions\n",
        "      arr_w = multivariate_normal.rvs( mean = np.array([0, 0]),\n",
        "                                        cov = np.array([[1, self.rho], [self.rho, 1]]),\n",
        "                                        size = (paths, steps-1) )\n",
        "\n",
        "      # Compute the corresponding paths\n",
        "      t_vec, dt = np.linspace(0, self.tau, steps, retstep=True)\n",
        "      for t in range(0,steps-1):\n",
        "          arr_F[:,t+1] = arr_F[:,t] + arr_F[:,t] * ( arr_v[:,t] * dt )**0.5 * arr_w[:,t,0]\n",
        "          arr_v[:,t+1] = arr_v[:,t] + self.kappa * ( self.theta - arr_v[:,t] ) * dt + self.sigma * ( arr_v[:,t] * dt )**0.5 * arr_w[:,t,1]\n",
        "          arr_v[arr_v[:,t+1] < 0.0, t+1] = 1e-5 # prevent negative variance\n",
        "\n",
        "      return arr_F, t_vec\n",
        ""
      ],
      "metadata": {
        "id": "Tc1jD26nVE_g"
      },
      "execution_count": 11,
      "outputs": []
    },
    {
      "cell_type": "code",
      "source": [
        "# Heston parameters\n",
        "rho = -0.30                                         # correlation coefficient\n",
        "v0 = 0.30**2                                        # spot variance\n",
        "theta = 0.40**2                                     # long-term variance\n",
        "kappa = 5.0                                         # mean reversion coefficient\n",
        "sigma = 0.7                                         # volatility of instantaneous variance (Vol of Vol)"
      ],
      "metadata": {
        "id": "Mdf5LSnEclFr"
      },
      "execution_count": 12,
      "outputs": []
    },
    {
      "cell_type": "code",
      "source": [
        "# Fourier inversion formula\n",
        "heston = Heston(futures_price, v0, theta, kappa, sigma, rho, risk_free_rate, time_to_maturity)\n",
        "heston_call = heston.option_pricer(K = strike_price, option_type = 'call')\n",
        "heston_put = heston.option_pricer(K = strike_price, option_type = 'put')\n",
        "\n",
        "print(f'Fourier inversion formula:')\n",
        "print(f'call is {heston_call:.4f}')\n",
        "print(f'put is {heston_put:.4f}')"
      ],
      "metadata": {
        "colab": {
          "base_uri": "https://localhost:8080/"
        },
        "id": "duYjIi-Pcfz4",
        "outputId": "36b6c2e1-63f1-4353-cfb0-7c2ec9c7e612"
      },
      "execution_count": 13,
      "outputs": [
        {
          "output_type": "stream",
          "name": "stdout",
          "text": [
            "Fourier inversion formula:\n",
            "call is 0.9758\n",
            "put is 7.1702\n"
          ]
        }
      ]
    },
    {
      "cell_type": "code",
      "source": [
        "# Monte Carlo simulation\n",
        "paths = 100000\n",
        "arr_F, _ = heston.simulate_F(paths = paths)\n",
        "\n",
        "arr_V = np.exp(-risk_free_rate*time_to_maturity) * np.maximum(arr_F[:,-1] - strike_price, 0)\n",
        "heston_call_mc, ste_call = arr_V.mean(), arr_V.std() / paths**0.5\n",
        "arr_V = np.exp(-risk_free_rate*time_to_maturity) * np.maximum(strike_price - arr_F[:,-1], 0)\n",
        "heston_put_mc, ste_put = arr_V.mean(), arr_V.std() / paths**0.5\n",
        "\n",
        "print(f'Monte Carlo simulation:')\n",
        "print(f'call is {heston_call_mc:.4f} with standard error {ste_call:.6f}')\n",
        "print(f'put is {heston_put_mc:.4f} with standard error {ste_put:.6f}')"
      ],
      "metadata": {
        "colab": {
          "base_uri": "https://localhost:8080/"
        },
        "id": "tTQu7g4dcfve",
        "outputId": "0c69da55-3879-4c82-b4af-433def801d75"
      },
      "execution_count": 14,
      "outputs": [
        {
          "output_type": "stream",
          "name": "stdout",
          "text": [
            "Monte Carlo simulation:\n",
            "call is 0.9749 with standard error 0.008445\n",
            "put is 7.1816 with standard error 0.020180\n"
          ]
        }
      ]
    },
    {
      "cell_type": "code",
      "source": [],
      "metadata": {
        "id": "ZkOni2RVtG2D"
      },
      "execution_count": 14,
      "outputs": []
    },
    {
      "cell_type": "markdown",
      "source": [
        "## Quadratic Normal Model (Bouchouev, 2023)\n",
        "\n",
        "\\begin{align*}\n",
        "&dF_t = \\sigma(F_t)dW_t = (\\sigma_{ATM} + a + bF_t + c F_t^2)dW_t\\\\\\\\\n",
        "&C(F, K, a, b, c, r,\\tau) = C_{BC}(F, K, \\sigma_a = \\sigma_{ATM}, r, \\tau) + e^{-r\\tau}U\\\\\n",
        "&P(F, K, a, b, c, r,\\tau) = P_{BC}(F, K, \\sigma_a = \\sigma_{ATM}, r, \\tau) + e^{-r\\tau}U\\\\\\\\  \n",
        "& \\textit{where}\\\\\n",
        "&\\ C_{BC}: \\textit{Bachelier call formula}\\\\\n",
        "&\\ P_{BC}: \\textit{Bachelier put formula}\\\\\n",
        "&\\ U = \\sqrt{\\tau}n(\\frac{F-K}{\\sigma_{ATM}\\sqrt{\\tau}})[a+\\frac{b}{2}(F+K) + \\frac{c}{3}(F^2+FK+K^2+\\frac{\\sigma_{ATM}^2\\tau}{2})]\n",
        "\\end{align*}"
      ],
      "metadata": {
        "id": "TKytVv1Hzp_3"
      }
    },
    {
      "cell_type": "code",
      "source": [
        "# Quadratic Normal Model parameters\n",
        "sig_atm, a, b, c = 24.249067350166275, 228.66240029218525, -6.02888532189243, 0.039649083686508296\n",
        "\n",
        "# plot sig(f)\n",
        "sigma_qnm = lambda f : sig_atm + a + b*f + c*f**2\n",
        "arr_f = np.arange(0,141,2)\n",
        "\n",
        "plt.figure(figsize=(12,5))\n",
        "plt.plot(arr_f, sigma_qnm(arr_f), label = f'{sig_atm}')\n",
        "\n",
        "plt.xlim(0,160)\n",
        "plt.ylim(0,140)\n",
        "plt.grid()\n",
        "\n",
        "plt.show()\n",
        ""
      ],
      "metadata": {
        "id": "Mm1Jg7q6Bfrb",
        "colab": {
          "base_uri": "https://localhost:8080/",
          "height": 451
        },
        "outputId": "b67beea8-be1e-4be4-ef98-00892423fb10"
      },
      "execution_count": 15,
      "outputs": [
        {
          "output_type": "display_data",
          "data": {
            "text/plain": [
              "<Figure size 1200x500 with 1 Axes>"
            ],
            "image/png": "[encoded data removed]"
          },
          "metadata": {}
        }
      ]
    },
    {
      "cell_type": "code",
      "source": [
        "# Quadratic Normal Model 1 (2023)\n",
        "\n",
        "class QNM:\n",
        "    def __init__(self, F, sig_atm, a, b, c, r, tau):\n",
        "      self.F = F\n",
        "      self.sig_atm = sig_atm\n",
        "      self.a = a\n",
        "      self.b = b\n",
        "      self.c = c\n",
        "      self.r = r\n",
        "      self.tau = tau\n",
        "\n",
        "\n",
        "    def option_pricer(self, K, option_type = 'call'):\n",
        "      '''\n",
        "      The method of linearization\n",
        "      return call/put option price\n",
        "      '''\n",
        "      m = (self.F - K)/(self.sig_atm * self.tau**0.5)\n",
        "      C_BC = np.exp(-self.r * self.tau) * ((self.F - K)*norm.cdf(m) + self.sig_atm * self.tau**0.5 * norm.pdf(m))\n",
        "      P_BC = np.exp(-self.r * self.tau) * ((K - self.F)*(1-norm.cdf(m)) + self.sig_atm * self.tau**0.5 * norm.pdf(m))\n",
        "      U = self.tau**0.5 * norm.pdf(m) * (self.a + self.b*(self.F + K)/2 +\n",
        "                            self.c*(self.F**2 + self.F*K + K**2 + 0.5*self.sig_atm**2*self.tau)/3)\n",
        "\n",
        "      if option_type == 'call':\n",
        "          return C_BC + U*np.exp(-self.r * self.tau)\n",
        "      elif option_type == 'put':\n",
        "          return P_BC + U*np.exp(-self.r * self.tau)\n",
        "\n",
        "\n",
        "    def simulate_F(self, paths = 10000, steps = None):\n",
        "      '''\n",
        "      Monte Carlo simulation\n",
        "      return underlying futures price and time vector\n",
        "      '''\n",
        "      # default parameter\n",
        "      if steps == None:\n",
        "        steps = int(self.tau*252*10)\n",
        "\n",
        "      # Initialize vectors\n",
        "      arr_F = np.zeros((paths,steps))\n",
        "      arr_F[:,0] = self.F\n",
        "\n",
        "      # generate Brownian motion\n",
        "      arr_w = np.random.standard_normal(size = (paths, steps-1))\n",
        "\n",
        "      # compute the corresponding price\n",
        "      t_vec, dt = np.linspace(0, self.tau, steps, retstep=True)\n",
        "      vol_ = lambda f : self.sig_atm + self.a + self.b*f + self.c*f**2\n",
        "      for t in range(0, steps-1):\n",
        "          arr_F[:,t+1] = arr_F[:,t] + vol_(arr_F[:,t]) * dt**0.5 * arr_w[:,t]\n",
        "\n",
        "      return arr_F, t_vec\n",
        "\n",
        "\n",
        "    def implicit_FD(self, K, option_type = 'call'):\n",
        "      '''\n",
        "      The implicit finite difference\n",
        "      return call/put option price\n",
        "      '''\n",
        "      # PDE: V_t + aV_ff + bV_f + cV = 0\n",
        "      a = lambda f : 0.5 * (self.sig_atm + self.a + self.b*f + self.c*f**2)**2\n",
        "      b = lambda f : 0\n",
        "      c = lambda f : -self.r\n",
        "\n",
        "      # Grid Parameters\n",
        "      f_max = self.F + 100                                                        # space upper boundary\n",
        "      f_min = self.F - 100                                                        # space lower boundary\n",
        "      M = int(8*(f_max-f_min)) + 1                                                # the number of space steps\n",
        "      N = int(100*252*self.tau)                                                   # the number of time steps\n",
        "\n",
        "      # Grid Construction\n",
        "      arr_f, df = np.linspace(f_min, f_max, M, retstep=True)                      # space discretization\n",
        "      arr_t, dt = np.linspace(0, self.tau, N, retstep=True)                       # time discretization\n",
        "      V = np.zeros((M, N))                                                        # grid initialization\n",
        "      if option_type == 'call':\n",
        "          V[:,0] = np.maximum(0, arr_f - K)                                       # European call option payoff (terminal condition)\n",
        "          V[0,:] = 0                                                              # boundary condition\n",
        "          V[-1,:] = (f_max - K) * np.exp(-self.r*arr_t)                           # boundary condition\n",
        "      elif option_type == 'put':\n",
        "          V[:,0] = np.maximum(0, K - arr_f)                                       # European put option payoff (terminal condition)\n",
        "          V[0,:] = (K - f_min)* np.exp(-self.r*arr_t)                             # boundary condition\n",
        "          V[-1,:] = 0                                                             # boundary condition\n",
        "\n",
        "      # Tri-diagonal Matrix Construction\n",
        "      alpha = lambda f : -a(f)*dt/df**2 + b(f)*dt/2/df\n",
        "      beta = lambda f : 1 + 2*a(f)*dt/df**2 - c(f)*dt\n",
        "      gamma = lambda f : -a(f)*dt/df**2 - b(f)*dt/2/df\n",
        "\n",
        "      D = np.zeros(shape = (M-2,M-2))\n",
        "      D[0,0], D[0,1], D[-1,-2], D[-1,-1] = beta(arr_f[1]), gamma(arr_f[1]), alpha(arr_f[-2]), beta(arr_f[-2])\n",
        "      for m in range(1, M-3):\n",
        "          D[m,m-1], D[m,m], D[m,m+1] = alpha(arr_f[m+1]), beta(arr_f[m+1]), gamma(arr_f[m+1])\n",
        "      D = sparse.csr_matrix(D)\n",
        "\n",
        "      # Grid Computation\n",
        "      rem = np.zeros(shape = (M-2,))\n",
        "      for n in range(1,N):\n",
        "          rem[0], rem[-1] = alpha(arr_f[1])*V[0,n-1], gamma(arr_f[-2])*V[-1,n-1]\n",
        "          V[1:-1,n] =  sparse.linalg.spsolve(D, V[1:-1, n-1] - rem)\n",
        "\n",
        "      return V[ round( (self.F - f_min)/df), -1]\n"
      ],
      "metadata": {
        "id": "Wo1MaziD0Y46"
      },
      "execution_count": 16,
      "outputs": []
    },
    {
      "cell_type": "code",
      "source": [
        "# QNM formula\n",
        "qnm = QNM(futures_price, sig_atm, a, b, c, risk_free_rate, time_to_maturity)\n",
        "qnm_call = qnm.option_pricer(K = strike_price, option_type = 'call')\n",
        "qnm_put = qnm.option_pricer(K = strike_price, option_type = 'put')\n",
        "\n",
        "print(f'QNM formula:')\n",
        "print(f'call is {qnm_call:.4f}')\n",
        "print(f'put is {qnm_put:.4f}')"
      ],
      "metadata": {
        "colab": {
          "base_uri": "https://localhost:8080/"
        },
        "id": "hwCADPd391Bn",
        "outputId": "a12f40ae-8c78-4540-8349-0aa5cee5ecbd"
      },
      "execution_count": 17,
      "outputs": [
        {
          "output_type": "stream",
          "name": "stdout",
          "text": [
            "QNM formula:\n",
            "call is 1.0067\n",
            "put is 7.2011\n"
          ]
        }
      ]
    },
    {
      "cell_type": "code",
      "source": [
        "# Monte Carlo simulation\n",
        "paths = 100000\n",
        "arr_F, _ = qnm.simulate_F(paths = paths)\n",
        "\n",
        "arr_V = np.exp(-risk_free_rate*time_to_maturity) * np.maximum(arr_F[:,-1] - strike_price, 0)\n",
        "qnm_call_mc, ste_call = arr_V.mean(), arr_V.std() / paths**0.5\n",
        "arr_V = np.exp(-risk_free_rate*time_to_maturity) * np.maximum(strike_price - arr_F[:,-1], 0)\n",
        "qnm_put_mc, ste_put = arr_V.mean(), arr_V.std() / paths**0.5\n",
        "\n",
        "print(f'Monte Carlo simulation:')\n",
        "print(f'call is {qnm_call_mc:.4f} with standard error {ste_call:.6f}')\n",
        "print(f'put is {qnm_put_mc:.4f} with standard error {ste_put:.6f}')"
      ],
      "metadata": {
        "colab": {
          "base_uri": "https://localhost:8080/"
        },
        "id": "wtzoTd9293fp",
        "outputId": "d65f2835-488d-4e63-d0b8-f9ceeb0454d1"
      },
      "execution_count": 18,
      "outputs": [
        {
          "output_type": "stream",
          "name": "stdout",
          "text": [
            "Monte Carlo simulation:\n",
            "call is 0.9918 with standard error 0.008728\n",
            "put is 7.1967 with standard error 0.021902\n"
          ]
        }
      ]
    },
    {
      "cell_type": "code",
      "source": [
        "# Finite difference method (implicit)\n",
        "qnm_call_df = qnm.implicit_FD(K = strike_price, option_type = 'call')\n",
        "qnm_put_fd = qnm.implicit_FD(K = strike_price, option_type = 'put')\n",
        "print(f'Finite difference method (implicit):')\n",
        "print(f'call is {qnm_call_df:.4f}')\n",
        "print(f'put is {qnm_put_fd:.4f}')"
      ],
      "metadata": {
        "id": "QIR2XSYc-M1z",
        "colab": {
          "base_uri": "https://localhost:8080/"
        },
        "outputId": "09a0e574-198c-4bac-ec4c-e95e86af80b2"
      },
      "execution_count": 19,
      "outputs": [
        {
          "output_type": "stream",
          "name": "stdout",
          "text": [
            "Finite difference method (implicit):\n",
            "call is 1.0058\n",
            "put is 7.2001\n"
          ]
        }
      ]
    },
    {
      "cell_type": "code",
      "source": [],
      "metadata": {
        "id": "DtOOv8kSkHHf"
      },
      "execution_count": 19,
      "outputs": []
    },
    {
      "cell_type": "markdown",
      "source": [
        "## Option Prices across Models"
      ],
      "metadata": {
        "id": "qhg-u8MF_42m"
      }
    },
    {
      "cell_type": "code",
      "source": [
        "arr_strike = np.arange(50,100,1)\n",
        "\n",
        "# call option\n",
        "arr_bachelier_call = bachelier.option_pricer(K = arr_strike, option_type = 'call')\n",
        "arr_black_call = black.option_pricer(K = arr_strike, option_type = 'call')\n",
        "list_heston_call = []\n",
        "list_qnm_call = []\n",
        "for strike_ in arr_strike:\n",
        "    list_heston_call.append(heston.option_pricer(K = strike_, option_type = 'call'))\n",
        "arr_qnm_call = qnm.option_pricer(K = arr_strike, option_type = 'call')\n",
        "\n",
        "# put option\n",
        "arr_bachelier_put = bachelier.option_pricer(K = arr_strike, option_type = 'put')\n",
        "arr_black_put = black.option_pricer(K = arr_strike, option_type = 'put')\n",
        "list_heston_put = []\n",
        "list_qnm_put = []\n",
        "for strike_ in arr_strike:\n",
        "  list_heston_put.append(heston.option_pricer(K = strike_, option_type = 'put'))\n",
        "arr_qnm_put = qnm.option_pricer(K = arr_strike, option_type = 'put')\n",
        "\n",
        "\n",
        "# create subplots\n",
        "fig = plt.figure(figsize=(16,5))\n",
        "\n",
        "ax1 = fig.add_subplot(121)\n",
        "ax1.plot(arr_strike, arr_bachelier_call, '.', markersize=3, label = 'Bachelier')\n",
        "ax1.plot(arr_strike, arr_black_call, '.', markersize=3, label = 'Black')\n",
        "ax1.plot(arr_strike, list_heston_call, '.', markersize=3, label = 'Heston')\n",
        "ax1.plot(arr_strike, arr_qnm_call, '.', markersize=3, label = 'QNM')\n",
        "ax1.set_title('Call Option Price')\n",
        "ax1.set_xlabel('stike price K')\n",
        "ax1.set_ylabel('option price')\n",
        "ax1.legend(loc='upper right')\n",
        "\n",
        "ax2 = fig.add_subplot(122)\n",
        "ax2.plot(arr_strike, arr_bachelier_put, '.', markersize=3, label = 'Bachelier')\n",
        "ax2.plot(arr_strike, arr_black_put, '.', markersize=3, label = 'Black')\n",
        "ax2.plot(arr_strike, list_heston_put, '.', markersize=3, label = 'Heston')\n",
        "ax2.plot(arr_strike, arr_qnm_put, '.', markersize=3, label = 'QNM')\n",
        "ax2.set_title('Put Option Price')\n",
        "ax2.set_xlabel('stike price K')\n",
        "ax2.set_ylabel('option price')\n",
        "ax2.legend(loc='lower right')\n",
        "\n",
        "plt.show()\n"
      ],
      "metadata": {
        "colab": {
          "base_uri": "https://localhost:8080/",
          "height": 441
        },
        "id": "qlhabwUfqa0o",
        "outputId": "b1b2354e-7804-4b28-a0fc-a631a90c8048"
      },
      "execution_count": 20,
      "outputs": [
        {
          "output_type": "display_data",
          "data": {
            "text/plain": [
              "<Figure size 1600x500 with 2 Axes>"
            ],
            "image/png": "[encoded data removed]"
          },
          "metadata": {}
        }
      ]
    },
    {
      "cell_type": "code",
      "source": [],
      "metadata": {
        "id": "407RFOectS3p"
      },
      "execution_count": 20,
      "outputs": []
    },
    {
      "cell_type": "markdown",
      "source": [
        "## Implied Volatility"
      ],
      "metadata": {
        "id": "tsKIdmhkniI3"
      }
    },
    {
      "cell_type": "code",
      "source": [
        "def implied_volatility(option_price, F, K, r, tau, option_type = 'call', model = 'black', method='brent', disp=True):\n",
        "    \"\"\"\n",
        "        Return Implied volatility\n",
        "        model: black (default), bachelier\n",
        "        methods: brent (default), fsolve, minimization\n",
        "    \"\"\"\n",
        "    # model\n",
        "    if model == 'bachelier':\n",
        "        bachelier_ = Bachelier(F, F*0.1, r, tau)\n",
        "        obj_fun = lambda vol : option_price - bachelier_.option_pricer(K = K, vol = vol, option_type = option_type)\n",
        "    else: # model == 'black'\n",
        "        black_ = Black(F, 0.1, r, tau)\n",
        "        obj_fun = lambda vol : option_price - black_.option_pricer(K = K, vol = vol, option_type = option_type)\n",
        "\n",
        "    # numerical method\n",
        "    if method == 'minimization':\n",
        "        obj_square = lambda vol : obj_fun(vol)**2\n",
        "        res = minimize_scalar( obj_square, bounds=(1e-15, 8), method='bounded')\n",
        "        if res.success == True:\n",
        "            return res.x\n",
        "\n",
        "    elif method == 'fsolve':\n",
        "        X0 = [0.1, 0.5, 1, 3]   # set of initial guess points\n",
        "        for x0 in X0:\n",
        "            x, _, solved, _ = fsolve(obj_fun, x0, full_output=True, xtol=1e-8)\n",
        "            if solved == 1:\n",
        "                return x[0]\n",
        "\n",
        "    else:\n",
        "        x, r = brentq( obj_fun, a = 1e-15, b = 500, full_output = True)\n",
        "        if r.converged == True:\n",
        "            return x\n",
        "\n",
        "\n",
        "    # display strikes with failed convergence\n",
        "    if disp == True:\n",
        "        print(method, K)\n",
        "\n",
        "    return -1\n",
        ""
      ],
      "metadata": {
        "id": "SgyjUhjveIJc"
      },
      "execution_count": 21,
      "outputs": []
    },
    {
      "cell_type": "code",
      "source": [
        "# Black implied volatility (IBV)\n",
        "list_ibv_bachelier, list_ibv_black, list_ibv_heston, list_ibv_qnm = [], [], [], []\n",
        "for stirke_, bachelier_, black_, heston_, qnm_ in zip(arr_strike, arr_bachelier_call, arr_black_call, list_heston_call, arr_qnm_call):\n",
        "    list_ibv_bachelier.append(implied_volatility(bachelier_, futures_price, stirke_, risk_free_rate, time_to_maturity,\n",
        "                                                          option_type = 'call', model = 'black', method='brent', disp=True))\n",
        "    list_ibv_black.append(implied_volatility(black_, futures_price, stirke_, risk_free_rate, time_to_maturity,\n",
        "                                                          option_type = 'call', model = 'black', method='brent', disp=True))\n",
        "    list_ibv_heston.append(implied_volatility(heston_, futures_price, stirke_, risk_free_rate, time_to_maturity,\n",
        "                                                          option_type = 'call', model = 'black', method='brent', disp=True))\n",
        "    list_ibv_qnm.append(implied_volatility(qnm_, futures_price, stirke_, risk_free_rate, time_to_maturity,\n",
        "                                                          option_type = 'call', model = 'black', method='brent', disp=True))\n",
        "\n",
        "# create plot\n",
        "plt.plot(arr_strike, list_ibv_bachelier, '.', label = 'Bachelier')\n",
        "plt.plot(arr_strike, list_ibv_black, '.', label = 'Black')\n",
        "plt.plot(arr_strike, list_ibv_heston, '.', label = 'Heston')\n",
        "plt.plot(arr_strike, list_ibv_qnm, '.', label = 'QNM')\n",
        "plt.title('Black Implied Volatility (IBV)')\n",
        "plt.xlabel('stike price K')\n",
        "plt.ylabel('implied volatility')\n",
        "plt.legend(loc = 'upper right')\n",
        "plt.show()\n"
      ],
      "metadata": {
        "colab": {
          "base_uri": "https://localhost:8080/",
          "height": 472
        },
        "id": "EnqwRIjxDPcB",
        "outputId": "8c546e7f-bd89-469f-fb4b-121f78aa797c"
      },
      "execution_count": 22,
      "outputs": [
        {
          "output_type": "display_data",
          "data": {
            "text/plain": [
              "<Figure size 640x480 with 1 Axes>"
            ],
            "image/png": "[encoded data removed]"
          },
          "metadata": {}
        }
      ]
    },
    {
      "cell_type": "code",
      "source": [
        "# Bachelier implied volatility (INV)\n",
        "list_inv_bachelier, list_inv_black, list_inv_heston, list_inv_qnm = [], [], [], []\n",
        "for stirke_, bachelier_, black_, heston_, qnm_ in zip(arr_strike, arr_bachelier_call, arr_black_call, list_heston_call, arr_qnm_call):\n",
        "    list_inv_bachelier.append(implied_volatility(bachelier_, futures_price, stirke_, risk_free_rate, time_to_maturity,\n",
        "                                                          option_type = 'call', model = 'bachelier', method='brent', disp=True))\n",
        "    list_inv_black.append(implied_volatility(black_, futures_price, stirke_, risk_free_rate, time_to_maturity,\n",
        "                                                          option_type = 'call', model = 'bachelier', method='brent', disp=True))\n",
        "    list_inv_heston.append(implied_volatility(heston_, futures_price, stirke_, risk_free_rate, time_to_maturity,\n",
        "                                                          option_type = 'call', model = 'bachelier', method='brent', disp=True))\n",
        "    list_inv_qnm.append(implied_volatility(qnm_, futures_price, stirke_, risk_free_rate, time_to_maturity,\n",
        "                                                          option_type = 'call', model = 'bachelier', method='brent', disp=True))\n",
        "\n",
        "\n",
        "plt.plot(arr_strike, list_inv_bachelier, '.', label = 'Bachelier')\n",
        "plt.plot(arr_strike, list_inv_black, '.', label = 'Black')\n",
        "plt.plot(arr_strike, list_inv_heston, '.', label = 'Heston')\n",
        "plt.plot(arr_strike, list_inv_qnm, '.', label = 'QNM')\n",
        "plt.title('Bachelier Implied Volatility (INV)')\n",
        "plt.xlabel('stike price K')\n",
        "plt.ylabel('implied volatility')\n",
        "plt.legend(loc = 'lower right')\n",
        "plt.show()\n"
      ],
      "metadata": {
        "id": "W-7KFSW2IR_y",
        "colab": {
          "base_uri": "https://localhost:8080/",
          "height": 472
        },
        "outputId": "35da5a92-3c18-4715-d22d-7073190c11b6"
      },
      "execution_count": 23,
      "outputs": [
        {
          "output_type": "display_data",
          "data": {
            "text/plain": [
              "<Figure size 640x480 with 1 Axes>"
            ],
            "image/png": "[encoded data removed]"
          },
          "metadata": {}
        }
      ]
    },
    {
      "cell_type": "code",
      "source": [],
      "metadata": {
        "id": "N5B8p5loI4WQ"
      },
      "execution_count": 23,
      "outputs": []
    },
    {
      "cell_type": "markdown",
      "source": [
        "## Technicle note - Quadratic Normal Model\n",
        "\n",
        "Consider an underlying futures price, $F_t$, with the following dynamics:\n",
        "\n",
        "\\begin{cases}\n",
        "dF_t = \\sigma(F_t)dW_t \\\\\n",
        "\\sigma(F_t) = \\sigma_{ATM} + \\epsilon(F_t)\n",
        "\\end{cases}\n",
        "\n",
        "Here, $\\epsilon$ represents a small perturbation that only depends on the space $F$.\n",
        "\n",
        "Under the no-arbitrage condition, any derivative price $V(F, t)$ in this economy satisfies the following partial differential equation (PDE):\n",
        "\n",
        "\\begin{align*}\n",
        "& \\frac{\\partial V}{\\partial t} + \\frac{(\\sigma_{ATM} + \\epsilon)^2}{2}\\frac{\\partial^2 V}{\\partial F^2} = rV\\\\\n",
        "\\end{align*}\n",
        "\n",
        "We are specifically interested in the European call option price, $C(F, t)$. We conjecture that $C = C_{BC} + e^{-r(T-t)}U$, where $C_{BC}$ is the Bachelier call formula. Substituting this into the above PDE, we obtain:\n",
        "\n",
        "\\begin{align*}\n",
        "(\\frac{\\partial C_{BC}}{\\partial t} + \\frac{\\sigma_{ATM}^2}{2}\\frac{\\partial^2 C_{BC}}{\\partial F^2} - rC_{BC}) + e^{-r(T-t)}(\\frac{\\partial U}{\\partial t} + \\frac{\\sigma_{ATM}^2}{2}\\frac{\\partial^2 U}{\\partial F^2} + \\epsilon\\sigma_{ATM}\\frac{\\partial^2 C_{BC}e^{r(T-t)}}{\\partial F^2}) + e^{-r(T-t)}(\\frac{\\epsilon^2}{2}\\frac{\\partial^2 C_{BC}e^{r(T-t)}}{\\partial F^2} + (\\epsilon\\sigma_{ATM} + \\frac{\\epsilon^2}{2})\\frac{\\partial^2 U}{\\partial F^2}) = 0\n",
        "\\end{align*}\n",
        "\n",
        "The Bachelier formula $C_{BC}$ solves the first parenthesis. The terms grouped in the last parenthesis are of higher order with respect to $\\epsilon$. Therefore, any $U$ satisfying the second parenthesis makes the PDE hold for some small perturbation $\\epsilon$. Let's consider $\\tau = T-t$ and $U = \\sqrt{\\tau}n\\left(\\frac{F-K}{\\epsilon\\sqrt{\\tau}}\\right)p(F, \\tau)$. After changes of variables, the PDE is now transformed into the following:\n",
        "\n",
        "\\begin{align*}\n",
        "p + \\tau \\frac{\\partial p}{\\partial \\tau} - \\frac{\\sigma_{ATM}^2\\tau}{2}\\frac{\\partial^2 p}{\\partial F^2} + (F-K)\\frac{\\partial p}{\\partial F} = \\epsilon\n",
        "\\end{align*}\n",
        "\n",
        "Let $\\epsilon(F) = a + bF+cF^2$ and $p(F, \\tau) = w_0 + w_1F + w_2F^2 + w_3\\tau$. The PDE relates these two functions through a set of linear equations:\n",
        "\n",
        "\\begin{cases}\n",
        "w_0 - Kw_1 = a \\\\\n",
        "2w_1 - 2Kw_2 = b \\\\\n",
        "3w_2 = c \\\\\n",
        "2w_3 = \\sigma_{ATM}^2w_2\n",
        "\\end{cases}\n",
        "\n",
        "The solution to the above linear system is:\n",
        "\\begin{cases}\n",
        "w_0 = a + \\frac{Kb}{2} + \\frac{K^2c}{3}\\\\\n",
        "w_1 = \\frac{b}{2} + \\frac{Kc}{3}\\\\\n",
        "w_2 = \\frac{c}{3}\\\\\n",
        "w_3 = \\frac{\\sigma_{ATM}^2c}{6}\n",
        "\\end{cases}\n",
        "\n",
        "This method can be extended to accommodate higher-order polynomial volatility perturbation functions $\\epsilon(F)$. In such cases, $p(F, \\tau)$ should also be considered as a polynomial of the same order, with coefficients determined by matching the corresponding terms to ensure the satisfaction of the PDE."
      ],
      "metadata": {
        "id": "_oGYNpaMOlhO"
      }
    },
    {
      "cell_type": "code",
      "source": [],
      "metadata": {
        "id": "oureb3AMZZ98"
      },
      "execution_count": 23,
      "outputs": []
    }
  ]
}